{
 "cells": [
  {
   "cell_type": "markdown",
   "id": "dd21efe9",
   "metadata": {},
   "source": [
    "# Assignment 6\n",
    "### Do Question 6, and three more questions of your choice."
   ]
  },
  {
   "cell_type": "markdown",
   "id": "707067e4",
   "metadata": {},
   "source": [
    "### 1. Set review:\n",
    "\n",
    "- Operations on sets (hints: sketch venn-type diagrams, and showing $A=B$ is the same as $A \\subseteq B$ and $B \\subseteq A$):\n",
    "- $ (A \\backslash B) \\cup (A \\cap B) = A $\n",
    "- $ A \\cup ( B \\cap C) = (A \\cup B) \\cap (A \\cup C)$\n",
    "- $ A \\backslash (B \\cup C) = A\\backslash B \\cap A \\backslash C $ and $A \\backslash (B \\cap C) = A \\backslash B \\cup A \\backslash C$\n",
    "\n",
    "- Plot the following sets: \n",
    "    - $A = \\{x \\in \\mathbb{R}: x^2 -1 \\ge 0 \\}$ \n",
    "    - $B = \\{ (x,y) \\in \\mathbb{R}^2: 3x -2y \\ge 0 \\}$\n",
    "    - $C = \\{ (x,y) \\in \\mathbb{R}^2: xy \\ge 3 \\}$\n",
    "    - $D = \\{ (x_1,x_2) \\in \\mathbb{R}^2: x_1 \\ge 0, x_2 \\ge 0, x_1 + x_2 \\le 1 \\}$\n",
    "- The power set of $A$ is the set of all subsets of $A$, denoted $\\mathcal{P}(A)$. What is the power set of $\\{ 1, 2, 3 \\}$? (Hint: The empty set is a subset of every set; the whole set is a subset of itself.)"
   ]
  },
  {
   "cell_type": "markdown",
   "id": "f4a7a3cb",
   "metadata": {
    "vscode": {
     "languageId": "plaintext"
    }
   },
   "source": [
    "Answer to Problem 1\n",
    "\n",
    "- $ (A \\backslash B) \\cup (A \\cap B) = A $\n",
    "\n",
    "A\\B {x : x in A not in B}, objects in A but not in B\n",
    "\n",
    "A $\\cap$ B {x : x in A and in B}, objects in both A and B\n",
    "\n",
    "So $ (A \\backslash B) \\cup (A \\cap B) $ is objects in A\n"
   ]
  },
  {
   "cell_type": "markdown",
   "id": "a60e8748",
   "metadata": {
    "vscode": {
     "languageId": "plaintext"
    }
   },
   "source": [
    "- $ A \\cup ( B \\cap C) = (A \\cup B) \\cap (A \\cup C)$\n",
    "\n",
    "$( B \\cap C)$ objects in both B and C\n",
    "\n",
    "$ A \\cup ( B \\cap C)$ is objects in A plus objects in both B and C\n",
    "\n",
    "$(A \\cup B)$ is objects in either A or B\n",
    "\n",
    "$(A \\cup C)$ is objects in either A or C\n",
    "\n",
    "So $(A \\cup B) \\cap (A \\cup C)$ is the objects in A and the objects in the intersect of B and C, which is equivalent to $ A \\cup ( B \\cap C)$"
   ]
  },
  {
   "cell_type": "markdown",
   "id": "c270dac0",
   "metadata": {
    "vscode": {
     "languageId": "plaintext"
    }
   },
   "source": [
    "- $ A \\backslash (B \\cup C) = A\\backslash B \\cap A \\backslash C $\n",
    "\n",
    "$ A \\backslash (B \\cup C)$ is the objects in A but not in B or C\n",
    "\n",
    "$A\\backslash B$ objects in A but not in B\n",
    "\n",
    "$A \\backslash C $ objects in A but not in C\n",
    "\n",
    "when the above 2 terms intersect, it will exlcude any object that's left over in A that may be in B or C.\n",
    "\n",
    "So $ A \\backslash (B \\cup C) = A\\backslash B \\cap A \\backslash C $\n",
    "\n"
   ]
  },
  {
   "cell_type": "markdown",
   "id": "9d2308cd",
   "metadata": {
    "vscode": {
     "languageId": "plaintext"
    }
   },
   "source": [
    "- $A \\backslash (B \\cap C) = A \\backslash B \\cup A \\backslash C$\n",
    "\n",
    "$A \\backslash (B \\cap C)$ is the objects in A but not in B and C\n",
    "\n",
    "$A \\backslash B \\cup A \\backslash C$ is the objects in A not in B plus objects in A not in C, which is equivalent to objects in A plus objects not in B and not in C"
   ]
  },
  {
   "cell_type": "markdown",
   "id": "01593da3",
   "metadata": {
    "vscode": {
     "languageId": "plaintext"
    }
   },
   "source": [
    "- Plot the following sets: \n",
    "    - $A = \\{x \\in \\mathbb{R}: x^2 -1 \\ge 0 \\}$ \n",
    "    - $B = \\{ (x,y) \\in \\mathbb{R}^2: 3x -2y \\ge 0 \\}$\n",
    "    - $C = \\{ (x,y) \\in \\mathbb{R}^2: xy \\ge 3 \\}$\n",
    "    - $D = \\{ (x_1,x_2) \\in \\mathbb{R}^2: x_1 \\ge 0, x_2 \\ge 0, x_1 + x_2 \\le 1 \\}$"
   ]
  },
  {
   "cell_type": "markdown",
   "id": "65e33e9a",
   "metadata": {},
   "source": [
    "![plot](src/lab6_prob1.png)"
   ]
  },
  {
   "cell_type": "markdown",
   "id": "9c527708",
   "metadata": {},
   "source": [
    "### 2. Probability space basics:\n",
    "\n",
    "- What are the outcomes for rolling a single, fair **THREE**-sided die? What's the set of all events? What are the probabilities of all the events?\n",
    "- What about flipping a fair coin twice? (Hint: There are 4 outcomes, and $2^{4} = 16$ events.)\n",
    "- What about rolling the **THREE**-sided die twice, and adding the results? Don't write down the set of all the possible events, but describe briefly what it looks like and how large it is. (Hint: There are 5 outcomes, and $2^{5}=32$ possible events.)\n",
    "\n",
    "Obviously, a \"three-sided die\" doesn't exist, but this keeps you from spending a lot of time suffering in working out sets of events."
   ]
  },
  {
   "cell_type": "markdown",
   "id": "3a20faec",
   "metadata": {},
   "source": [
    "Answer to Problem 2\n",
    "\n",
    "- Rolling a single, fair 3-sided die\n",
    "    - 3 outcomes: (1,2,3)\n",
    "    - 2**3 so 6 events\n",
    "    - probabilty for any event is 1/3 (fair so uniform), the probability of all events sums to 1 \n",
    "\n",
    "- Flipping a fair coin twice\n",
    "    - 4 outcomes: (H,H),(H,T),(T,H),(T,T)\n",
    "    - 16 events: 2**4\n",
    "    - probability (uniform) for each outcome is 1/4\n",
    "\n",
    "- Rolling fair 3-sided die twice\n",
    "    - 5 outcomes: (2,3,4,5,6)\n",
    "    - 32 possible events: 2**5, it would include first layer with all 5 outcomes and 2nd layer of combination of 1 and 4 other outcomes, 2 and 4 other outcome ... 6 and 4 other outcomes, 3rd layer of combination of 3 outcomes for each number and keep goes up to combination of 5 for each outcome)\n",
    "    - probabilty for any outcome is 1/9. for \n",
    "        - sum of 2, there is 1 possible combination\n",
    "        - sum of 3, 2 possible combinition\n",
    "        - sum of 4, 3 possilbe combination\n",
    "        - sum of 5, 2 possilbe combination\n",
    "        - sum of 6, 1 possilbe combination"
   ]
  },
  {
   "cell_type": "markdown",
   "id": "75676fb3",
   "metadata": {},
   "source": [
    "\n",
    "### 3. Random Variable Basics\n",
    "\n",
    "- Imagine rolling a fair single six-sided die. There are 6 outcomes, all equally likely. Derive the sample space and the space of events. What are the probabilities of the outcomes and events? \n",
    "- Consider a random variable that assigns the square root of the number of pips on the die to each outcome. Write code to simulate rolling a single six-sided die and computing the value of the random variable. Simulate 5000 rolls and plot the mass function and ECDF of the random variable.\n",
    "- Imagine rolling two fair six-sided die. Consider a random variable that adds up the pips on the dice. There are 11 outcomes (2 , 3, ..., 12), but not all are equally likely. Derive the sample space and **describe** the space of events. What are the probabilities of the outcomes?\n",
    "- Write code to simulate the random variable (rolling two six-sided die and adding the results together). Simulate 10000 rolls and plot the mass function and ECDF."
   ]
  },
  {
   "cell_type": "markdown",
   "id": "95f1f953",
   "metadata": {
    "vscode": {
     "languageId": "plaintext"
    }
   },
   "source": [
    "### 4. Roulette\n",
    "\n",
    "This question will be easiest if you read the whole thing, and come up with a clear plan for how you'll write the code.\n",
    "\n",
    "Roulette is a betting game. There are 37 possible outcomes: A green 0, and the numbers 1 to 36 in red and black. Here is a picture of the (American, not Euro, it has an extra green 00) betting board:\n",
    "\n",
    "![Roulette](./src/euro_roulette.jpg)\n",
    "\n",
    "To bet, you must pay a dollar, but then you get payouts that depend on how many slots are in your bet\n",
    "- Basic bets:\n",
    "    - Red or Black slots\n",
    "    - Odd or Even slots\n",
    "    - A single slots, like 20\n",
    "- More complex bets:\n",
    "    - Split: Two adjacent slots (e.g. {1,2})\n",
    "    - Square: Four adjacent slots (e.g. {1,2,4,5})\n",
    "    - Street: Three slots in a row (e.g. {1,2,3})\n",
    "    - Line: Six slots (e.g. {1,2,3,4,5,6})\n",
    "In general, you can only bet on 1, 2, 3, 4, 6 slots, 12 slots, or 18 slots. If your bet occurs when the wheel is spun, you gain 36/K-1 where $K$ is the number of slots you bet on; if not, you lose a dollar and get -1.\n",
    "\n",
    "- Write code to model spinning the roulette wheel, including the colors and numbers (you could make two lists of number and color and draw a random number between 0 and 37... or use a dataframe with color and number variables and sample it... or use a dict with key to number/color pairs...)\n",
    "- Describe the probability space associated with the roulette wheel: Outcomes, events, probabilities (If there are 37 outcomes, there are $2^{37}= 137,438,953,472$ events, by the way)\n",
    "- You wrote code to generate a spin of the roulette wheel. Now write a function that takes a basic or complex bet as an argument, and returns the result for the player (win or lose, and the payout 36/K-1 or -1)\n",
    "- Simulate betting on red, betting on odd, betting on 7, a split, and a line 1000 times each.\n",
    "- Compute the average values for the bets you just simulated. What are the expected average payoffs?"
   ]
  },
  {
   "cell_type": "markdown",
   "id": "6bc9caa6",
   "metadata": {},
   "source": [
    "### 5. CDF and PDF Basics\n",
    "\n",
    "- Verify the following functions are distribution functions and compute their density functions. Plot the distribution and density.\n",
    "\n",
    "1. $F(x) = \\begin{cases}\n",
    "0, & x \\le 0 \\\\\n",
    "\\sqrt{x}, & 0 \\le x \\le 1 \\\\\n",
    "1, & x \\ge 1 \n",
    "\\end{cases}\n",
    "$\n",
    "2. $F(x) = \\dfrac{1}{1+e^{-x}}$\n",
    "3. For $ a < b < c$,\n",
    "$\n",
    "F(x) = \\begin{cases}\n",
    "0, & x \\le 0 \\\\\n",
    "\\frac{(x-a)^2}{(b-a)(b-c)}, & a \\le x \\le c \\\\\n",
    "1 - \\frac{(b-x)^2}{(b-a)(b-c)}, & c < x < b \\\\\n",
    "1, & x \\ge b\n",
    "\\end{cases}\n",
    "$\n",
    "4. $ F(x) = \\begin{cases}\n",
    "0, & x <0 \\\\\n",
    "1 - e^{-x}, & x>0\n",
    "\\end{cases}\n",
    "$\n",
    "5. $ F(x) = \\begin{cases}\n",
    "0, & x \\le 0 \\\\\n",
    "x, & 0 < x < 1\\\\\n",
    "1, & x \\ge 1\n",
    "\\end{cases}\n",
    "$"
   ]
  },
  {
   "cell_type": "markdown",
   "id": "b98cf2de",
   "metadata": {
    "vscode": {
     "languageId": "plaintext"
    }
   },
   "source": [
    "Answer to Problem 5.1 - it is a distribtution function\n",
    "- Non decreasing: Yes\n",
    "- limit: as x decrease to - infinity, F(x)=0, and x increase to + infinity, F(x)=1, check\n",
    "- right continuous: yes\n",
    "\n",
    "Desnsity function is \n",
    "\\[\n",
    "f(x) =\n",
    "\\begin{cases}\n",
    "0, & x \\le 0 \\\\\n",
    "\\frac{1}{2\\sqrt{x}}, & 0 < x < 1 \\\\\n",
    "0, & x \\ge 1\n",
    "\\end{cases}\n",
    "\\]"
   ]
  },
  {
   "cell_type": "code",
   "execution_count": 13,
   "id": "153ea85b",
   "metadata": {},
   "outputs": [
    {
     "data": {
      "text/plain": [
       "Text(0.5, 1.0, '5.1 Distribution')"
      ]
     },
     "execution_count": 13,
     "metadata": {},
     "output_type": "execute_result"
    },
    {
     "data": {
      "image/png": "[encoded data removed]",
      "text/plain": [
       "<Figure size 640x480 with 1 Axes>"
      ]
     },
     "metadata": {},
     "output_type": "display_data"
    }
   ],
   "source": [
    "import numpy as np\n",
    "import matplotlib.pyplot as plt\n",
    "\n",
    "# Graph for Problem 5.1\n",
    "x = np.linspace(-0.5, 1.5, 400)\n",
    "F1 = np.piecewise(x, [x <= 0, (x > 0) & (x < 1), x >= 1],\n",
    "                  [0, lambda x: np.sqrt(x), 1])\n",
    "plt.plot(x, F1)\n",
    "plt.title('5.1 Distribution')"
   ]
  },
  {
   "cell_type": "code",
   "execution_count": 15,
   "id": "726aa791",
   "metadata": {},
   "outputs": [
    {
     "data": {
      "text/plain": [
       "Text(0.5, 1.0, '5.1 Density')"
      ]
     },
     "execution_count": 15,
     "metadata": {},
     "output_type": "execute_result"
    },
    {
     "data": {
      "image/png": "[encoded data removed]",
      "text/plain": [
       "<Figure size 640x480 with 1 Axes>"
      ]
     },
     "metadata": {},
     "output_type": "display_data"
    }
   ],
   "source": [
    "# density function\n",
    "f1 = np.piecewise(x, [x <= 0, (x > 0) & (x < 1), x >= 1],\n",
    "                  [0, lambda x: 1/(2*np.sqrt(x)), 0])\n",
    "plt.plot(x, f1, color='red')\n",
    "plt.title('5.1 Density')"
   ]
  },
  {
   "cell_type": "markdown",
   "id": "67ddbc30",
   "metadata": {},
   "source": [
    "Answer to Problem 5.2 - this is a logistic CDF\n",
    "- Non decreasing: yes\n",
    "- right continuous: yes\n",
    "- limits check 0 to 1 : yes\n",
    "\n",
    "Density function\n",
    "\n",
    "$\n",
    "f(x) = \\frac{e^{-x}}{(1 + e^{-x})^2}\n",
    "$\n"
   ]
  },
  {
   "cell_type": "code",
   "execution_count": 17,
   "id": "b3bd0437",
   "metadata": {},
   "outputs": [
    {
     "data": {
      "image/png": "[encoded data removed]",
      "text/plain": [
       "<Figure size 640x480 with 2 Axes>"
      ]
     },
     "metadata": {},
     "output_type": "display_data"
    }
   ],
   "source": [
    "# Distribution for 5.2\n",
    "x = np.linspace(-6, 6, 400)\n",
    "F2 = 1/(1 + np.exp(-x2))\n",
    "f2 = np.exp(-x2)/(1 + np.exp(-x2))**2\n",
    "\n",
    "plt.subplot(1,2,1)\n",
    "plt.plot(x, F2, label='CDF F2')\n",
    "plt.title('CDF F2')\n",
    "\n",
    "plt.subplot(1,2,2)\n",
    "plt.plot(x, f2, label='PDF f2', color='orange')\n",
    "plt.title('PDF f2')\n",
    "plt.show()\n",
    "\n"
   ]
  },
  {
   "cell_type": "markdown",
   "id": "f64444d2",
   "metadata": {},
   "source": [
    "### 6. Some Common Distributions\n",
    "\n",
    "For the following distributions:\n",
    "- Determine the support\n",
    "- Compute the density from the distribution for the logistic and exponential distributions (take a derivative)\n",
    "- Plot the density and distribution for a variety of parameter values\n",
    "- Take a sample of 1000 draws $(x_1, x_2, ..., x_{1000})$ from the distribution, plot a KDE and ECDF, visually compare with the theoretical pdf/cdf\n",
    "- Find an example of this general type of PDF/CDF from the Metabric cancer data\n",
    "\n",
    "You can use https://docs.scipy.org/doc/scipy/reference/stats.html to generate values for the pdf/cdf and generate samples of random variates.\n",
    "\n",
    "\n",
    "- Logistic distribution (similar to normal): \n",
    "$$\n",
    "F(x; \\sigma) = \\dfrac{1}{1+e^{-x/\\sigma}} \n",
    "$$\n",
    "with $\\sigma >0$.\n",
    "- Exponential distribution (similar to log-normal):\n",
    "$$\n",
    "F_X(x) = \\begin{cases}\n",
    "0, & x<0 \\\\\n",
    "1 - e^{-\\lambda x}, & x \\ge 0,\n",
    "\\end{cases}\n",
    "$$\n",
    "with $\\lambda > 0$.\n",
    "- Negative Binomial (similar to Poisson): The probability mass function for positive integers is:\n",
    "$$\n",
    "f(k;r,p) = \\dfrac{(k+r-1)!}{k!(r-1)!}(1-p)^k p^r, \\quad \\text{ for $k=0,...n$}\n",
    "$$\n",
    "You can interpret this as follows: Flip a coin that comes up heads with probability $p$ until you get $r$ heads, and then stop. What is the probability of stopping at each $k=0,1,2,...$?\n",
    "- Categorical (similar to Bernoulli): The probability mass function over $k = 1, 2, ..., K$ categories is\n",
    "$$\n",
    "f(k;p_1,...,p_K) = p_1^{k=1}p_2^{k=2}...p_K^{k=K}\n",
    "$$\n",
    "where $0 \\le p_i \\le 1$ and $ \\sum_{k=1}^K p_k = 1$.\n"
   ]
  },
  {
   "cell_type": "code",
   "execution_count": null,
   "id": "769efcbb",
   "metadata": {},
   "outputs": [],
   "source": []
  },
  {
   "cell_type": "code",
   "execution_count": null,
   "id": "04de6f3a",
   "metadata": {},
   "outputs": [],
   "source": []
  }
 ],
 "metadata": {
  "kernelspec": {
   "display_name": "base2",
   "language": "python",
   "name": "python3"
  },
  "language_info": {
   "codemirror_mode": {
    "name": "ipython",
    "version": 3
   },
   "file_extension": ".py",
   "mimetype": "text/x-python",
   "name": "python",
   "nbconvert_exporter": "python",
   "pygments_lexer": "ipython3",
   "version": "3.13.7"
  }
 },
 "nbformat": 4,
 "nbformat_minor": 5
}
