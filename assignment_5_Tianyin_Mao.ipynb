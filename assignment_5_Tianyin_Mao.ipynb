{
 "cells": [
  {
   "cell_type": "markdown",
   "id": "dd21efe9",
   "metadata": {},
   "source": [
    "# Assignment 5\n",
    "### Do all four questions."
   ]
  },
  {
   "cell_type": "markdown",
   "id": "1ee9b4e8",
   "metadata": {},
   "source": [
    "**1.** Let's review some basic matrix multiplication. When you have an $M \\times N$ matrix $A$ with $M$ rows and $N$ columns, \n",
    "$$\n",
    "A= \\left[ \\begin{array}{cccc} a_{11} & a_{12} & ... & a_{1N} \\\\\n",
    "a_{21} & a_{22} & ... & a_{2N} \\\\\n",
    "\\vdots & \\vdots & ... & \\vdots \\\\\n",
    "a_{M1} & a_{M2} & ... & a_{MN} \n",
    "\\end{array} \\right],\n",
    "$$\n",
    "and you right-multiply it by a vector\n",
    "$$\n",
    "x = \\left[ \\begin{array}{c} x_1 \\\\ x_2 \\\\ \\vdots \\\\ x_N \n",
    "\\end{array} \\right],\n",
    "$$\n",
    "you get\n",
    "$$\n",
    "Ax = \\left[ \\begin{array}{c} \\sum_{i=1}^N a_{1i} x_i \\\\ \\sum_{i=1}^N a_{2i} x_i \\\\ \\vdots \\\\ \\sum_{i=1}^N a_{Mi} x_i \n",
    "\\end{array} \\right].\n",
    "$$\n",
    "This is just \"matrix row times column vector\" element-by-element, stacking the results into a new vector.\n",
    "\n",
    "For this to make sense, $N$ must be the same for the matrix and the vector, but $M$ can be different from $N$. \n",
    "\n",
    "Let's play with some NumPy to see this. First we'll define a matrix $A$:"
   ]
  },
  {
   "cell_type": "code",
   "execution_count": 1,
   "id": "33df3579",
   "metadata": {},
   "outputs": [
    {
     "data": {
      "text/plain": [
       "array([[1, 2, 3],\n",
       "       [4, 5, 6],\n",
       "       [7, 8, 9]])"
      ]
     },
     "execution_count": 1,
     "metadata": {},
     "output_type": "execute_result"
    }
   ],
   "source": [
    "import numpy as np\n",
    "\n",
    "A = np.array([ [1,2,3],\n",
    "              [4,5,6],\n",
    "              [7,8,9]])\n",
    "A"
   ]
  },
  {
   "cell_type": "markdown",
   "id": "94b1b3ac",
   "metadata": {},
   "source": [
    "a. Multiply $A$ times each of the following vectors using the @ operator. Explain which part of the $A$ matrix gets selected and explain why, using the definition of matrix multiplication. "
   ]
  },
  {
   "cell_type": "code",
   "execution_count": 2,
   "id": "5b6148d2",
   "metadata": {},
   "outputs": [],
   "source": [
    "e_1 = np.array([1,0,0])\n",
    "e_2 = np.array([0,1,0])\n",
    "e_3 = np.array([0,0,1])"
   ]
  },
  {
   "cell_type": "code",
   "execution_count": 3,
   "id": "dc9e3606",
   "metadata": {},
   "outputs": [
    {
     "data": {
      "text/plain": [
       "array([1, 4, 7])"
      ]
     },
     "execution_count": 3,
     "metadata": {},
     "output_type": "execute_result"
    }
   ],
   "source": [
    "# Multiplying A with e_1. return the first column of A\n",
    "# the first element is 1*1+2*0+3*0 = 1\n",
    "# the second element is 4*1+5*0+6*0 = 4\n",
    "# the third element is 7*1+8*0+9*0 = 7\n",
    "# M\n",
    "A@e_1"
   ]
  },
  {
   "cell_type": "code",
   "execution_count": 4,
   "id": "32358749",
   "metadata": {},
   "outputs": [
    {
     "data": {
      "text/plain": [
       "array([2, 5, 8])"
      ]
     },
     "execution_count": 4,
     "metadata": {},
     "output_type": "execute_result"
    }
   ],
   "source": [
    "# Multiplying A with e_2 returns the second column of A\n",
    "# the first element is 1*0+2*1+3*0 = 2\n",
    "# the second element is 4*0+5*1+6*0 = 5\n",
    "# the third element is 7*0+8*1+9*0 = 8\n",
    "A@e_2"
   ]
  },
  {
   "cell_type": "code",
   "execution_count": 5,
   "id": "d9ef9547",
   "metadata": {},
   "outputs": [
    {
     "data": {
      "text/plain": [
       "array([3, 6, 9])"
      ]
     },
     "execution_count": 5,
     "metadata": {},
     "output_type": "execute_result"
    }
   ],
   "source": [
    "# Multiplying A with e_3 returns the third column of A\n",
    "# the first element is 1*0+2*0+3*1 = 3\n",
    "# the second element is 4*0+5*0+6*1 = 6\n",
    "# the third element is 7*0+8*0+9*1 = 9\n",
    "A@e_3"
   ]
  },
  {
   "cell_type": "markdown",
   "id": "72a4704e",
   "metadata": {},
   "source": [
    "b. Now multiply $A$ times $u = (1,1,1)$. Explain the logic of the result with the definition of matrix multiplication."
   ]
  },
  {
   "cell_type": "code",
   "execution_count": 6,
   "id": "5bf73f9b",
   "metadata": {},
   "outputs": [],
   "source": [
    "u = np.ones(3)"
   ]
  },
  {
   "cell_type": "code",
   "execution_count": 7,
   "id": "0a3cb9e3",
   "metadata": {},
   "outputs": [
    {
     "data": {
      "text/plain": [
       "array([ 6., 15., 24.])"
      ]
     },
     "execution_count": 7,
     "metadata": {},
     "output_type": "execute_result"
    }
   ],
   "source": [
    "# it returns the sum of each row of A\n",
    "# the first element is 1*1+2*1+3*1 = 6\n",
    "# the second element is 4*1+5*1+6*1 = 15\n",
    "# the third element is 7*1+8*1+9*1 = 24\n",
    "A@u"
   ]
  },
  {
   "cell_type": "markdown",
   "id": "dde75eab",
   "metadata": {},
   "source": [
    "c. Whenever a matrix has 1's on the diagonal and zeros everywhere else, we call it an **identity matrix**. What happens when you multiple $A$ times $x$ below? What happens when you multiple an identity matrix times any vector? Explain your result with the definition of matrix multiplication."
   ]
  },
  {
   "cell_type": "code",
   "execution_count": 8,
   "id": "b0d349c4",
   "metadata": {},
   "outputs": [],
   "source": [
    "A = np.array([ [1,0,0],\n",
    "              [0,1,0],\n",
    "              [0,0,1]])\n",
    "x = np.array([-2,4,11])\n"
   ]
  },
  {
   "cell_type": "code",
   "execution_count": 9,
   "id": "dc6b33ca",
   "metadata": {},
   "outputs": [
    {
     "data": {
      "text/plain": [
       "array([-2,  4, 11])"
      ]
     },
     "execution_count": 9,
     "metadata": {},
     "output_type": "execute_result"
    }
   ],
   "source": [
    "# the result returns the vector x\n",
    "# first element 1*(-2)+0*4+0*11 = -2\n",
    "# second element 0*(-2)+1*4+0*11 = 4\n",
    "# third element 0*(-2)+0*4+1*11 = 11\n",
    "A@x"
   ]
  },
  {
   "cell_type": "markdown",
   "id": "57141925",
   "metadata": {},
   "source": [
    "d. What if every row and column sum to 1, but the 1's are no longer on the diagonal? Multiple $A$ times $X$ below and explain the result. Create another matrix whose rows and columns sum to 1, but is not an identity matrix, and show how it permutes the values of $x$. "
   ]
  },
  {
   "cell_type": "code",
   "execution_count": 10,
   "id": "83a9ed11",
   "metadata": {},
   "outputs": [],
   "source": [
    "A = np.array([ [0,0,1],\n",
    "              [1,0,0],\n",
    "              [0,1,0]])\n",
    "x = np.array([-2,4,11])"
   ]
  },
  {
   "cell_type": "code",
   "execution_count": 11,
   "id": "fd935731",
   "metadata": {},
   "outputs": [
    {
     "data": {
      "text/plain": [
       "array([11, -2,  4])"
      ]
     },
     "execution_count": 11,
     "metadata": {},
     "output_type": "execute_result"
    }
   ],
   "source": [
    "# it returns the vestor x in a new order: 11,-2,4\n",
    "# first element 0*(-2)+0*4+1*11 = 11\n",
    "# second element 1*(-2)+0*4+0*11 = -2\n",
    "# third element 0*(-2)+1*4+0*11 = 4\n",
    "A@x"
   ]
  },
  {
   "cell_type": "markdown",
   "id": "611c26c3",
   "metadata": {},
   "source": [
    "e. The next matrix $A$ could be a Markov transition matrix: Its columns sum to 1, and each entry $a_{ij}$ can be interpreted as the proportion of observations who moved from state $j$ to state $i$. Multiply $A$ by each of the vectors $e_1$, $e_2$, and $e_3$, and explain your results."
   ]
  },
  {
   "cell_type": "code",
   "execution_count": 12,
   "id": "aff4fb97",
   "metadata": {},
   "outputs": [
    {
     "name": "stdout",
     "output_type": "stream",
     "text": [
      "[[0.50052958 0.24049286 0.18358131]\n",
      " [0.02574731 0.39251588 0.37907577]\n",
      " [0.47372311 0.36699127 0.43734292]]\n"
     ]
    }
   ],
   "source": [
    "rng = np.random.default_rng(100)\n",
    "A = rng.random((3,3)) # Generate a random 3X3 matrix\n",
    "sums = np.sum(A,axis=0) # Column sums\n",
    "A = A/sums # Normalize the columns so they sum to 1\n",
    "print(A)"
   ]
  },
  {
   "cell_type": "markdown",
   "id": "0647bfa7",
   "metadata": {},
   "source": [
    "f. For each of the vectors $e_1, e_2, e_3$, multiple $A$ times that vector 5 times. What answer do you get for each starting vector? Describe the behavior you observe."
   ]
  },
  {
   "cell_type": "code",
   "execution_count": 13,
   "id": "e88c18db",
   "metadata": {},
   "outputs": [
    {
     "data": {
      "text/plain": [
       "array([0.50052958, 0.02574731, 0.47372311])"
      ]
     },
     "execution_count": 13,
     "metadata": {},
     "output_type": "execute_result"
    }
   ],
   "source": [
    "# getting 5 multiplication for e_1\n",
    "v1=A@e_1\n",
    "v1"
   ]
  },
  {
   "cell_type": "code",
   "execution_count": 14,
   "id": "5f7effa5",
   "metadata": {},
   "outputs": [
    {
     "data": {
      "text/plain": [
       "array([0.34368862, 0.20257047, 0.45374091])"
      ]
     },
     "execution_count": 14,
     "metadata": {},
     "output_type": "execute_result"
    }
   ],
   "source": [
    "v2 = A@v1\n",
    "v2"
   ]
  },
  {
   "cell_type": "code",
   "execution_count": 15,
   "id": "b913ff7c",
   "metadata": {},
   "outputs": [
    {
     "data": {
      "text/plain": [
       "array([0.30404142, 0.26036337, 0.43559521])"
      ]
     },
     "execution_count": 15,
     "metadata": {},
     "output_type": "execute_result"
    }
   ],
   "source": [
    "v3 = A@v2\n",
    "v3"
   ]
  },
  {
   "cell_type": "code",
   "execution_count": 16,
   "id": "66f3f26c",
   "metadata": {},
   "outputs": [
    {
     "data": {
      "text/plain": [
       "array([0.29476439, 0.27514859, 0.43008701])"
      ]
     },
     "execution_count": 16,
     "metadata": {},
     "output_type": "execute_result"
    }
   ],
   "source": [
    "v4 = A@v3\n",
    "v4"
   ]
  },
  {
   "cell_type": "code",
   "execution_count": 17,
   "id": "48ff1b00",
   "metadata": {},
   "outputs": [
    {
     "data": {
      "text/plain": [
       "array([0.29266551, 0.27862515, 0.42870935])"
      ]
     },
     "execution_count": 17,
     "metadata": {},
     "output_type": "execute_result"
    }
   ],
   "source": [
    "# Result for e_1 after 5 multimplication\n",
    "v5 = A@v4\n",
    "v5"
   ]
  },
  {
   "cell_type": "code",
   "execution_count": 18,
   "id": "7d0502cb",
   "metadata": {},
   "outputs": [
    {
     "data": {
      "text/plain": [
       "array([0.24049286, 0.39251588, 0.36699127])"
      ]
     },
     "execution_count": 18,
     "metadata": {},
     "output_type": "execute_result"
    }
   ],
   "source": [
    "# getting 5 multiplications for e_2\n",
    "b1=A@e_2\n",
    "b1"
   ]
  },
  {
   "cell_type": "code",
   "execution_count": 19,
   "id": "1a464e12",
   "metadata": {},
   "outputs": [
    {
     "data": {
      "text/plain": [
       "array([0.28214379, 0.29937825, 0.41847795])"
      ]
     },
     "execution_count": 19,
     "metadata": {},
     "output_type": "execute_result"
    }
   ],
   "source": [
    "b2=A@b1\n",
    "b2"
   ]
  },
  {
   "cell_type": "code",
   "execution_count": 20,
   "id": "2c42f9fc",
   "metadata": {},
   "outputs": [
    {
     "data": {
      "text/plain": [
       "array([0.29004438, 0.28341002, 0.42654561])"
      ]
     },
     "execution_count": 20,
     "metadata": {},
     "output_type": "execute_result"
    }
   ],
   "source": [
    "b3=A@b2\n",
    "b3"
   ]
  },
  {
   "cell_type": "code",
   "execution_count": 21,
   "id": "34966025",
   "metadata": {},
   "outputs": [
    {
     "data": {
      "text/plain": [
       "array([0.29163968, 0.2804039 , 0.42795643])"
      ]
     },
     "execution_count": 21,
     "metadata": {},
     "output_type": "execute_result"
    }
   ],
   "source": [
    "b4=A@b3\n",
    "b4"
   ]
  },
  {
   "cell_type": "code",
   "execution_count": 22,
   "id": "9f274e37",
   "metadata": {},
   "outputs": [
    {
     "data": {
      "text/plain": [
       "array([0.29197422, 0.27979983, 0.42822595])"
      ]
     },
     "execution_count": 22,
     "metadata": {},
     "output_type": "execute_result"
    }
   ],
   "source": [
    "# Result for e_2 after 5 multimplication\n",
    "b5=A@b4\n",
    "b5"
   ]
  },
  {
   "cell_type": "code",
   "execution_count": 23,
   "id": "afa2a2af",
   "metadata": {},
   "outputs": [
    {
     "data": {
      "text/plain": [
       "array([0.18358131, 0.37907577, 0.43734292])"
      ]
     },
     "execution_count": 23,
     "metadata": {},
     "output_type": "execute_result"
    }
   ],
   "source": [
    "# multiplication of e_3\n",
    "c1 = A@e_3\n",
    "c1"
   ]
  },
  {
   "cell_type": "code",
   "execution_count": 24,
   "id": "7edbbb7b",
   "metadata": {},
   "outputs": [
    {
     "data": {
      "text/plain": [
       "array([0.26334088, 0.31930609, 0.41735304])"
      ]
     },
     "execution_count": 24,
     "metadata": {},
     "output_type": "execute_result"
    }
   ],
   "source": [
    "c2 = A@c1\n",
    "c2"
   ]
  },
  {
   "cell_type": "code",
   "execution_count": 25,
   "id": "decb5249",
   "metadata": {},
   "outputs": [
    {
     "data": {
      "text/plain": [
       "array([0.28521895, 0.29032145, 0.4244596 ])"
      ]
     },
     "execution_count": 25,
     "metadata": {},
     "output_type": "execute_result"
    }
   ],
   "source": [
    "c3 = A@c2\n",
    "c3"
   ]
  },
  {
   "cell_type": "code",
   "execution_count": 26,
   "id": "05a71c60",
   "metadata": {},
   "outputs": [
    {
     "data": {
      "text/plain": [
       "array([0.29050361, 0.28220175, 0.42729464])"
      ]
     },
     "execution_count": 26,
     "metadata": {},
     "output_type": "execute_result"
    }
   ],
   "source": [
    "c4 = A@c3\n",
    "c4"
   ]
  },
  {
   "cell_type": "code",
   "execution_count": 27,
   "id": "6b17ce25",
   "metadata": {},
   "outputs": [
    {
     "data": {
      "text/plain": [
       "array([0.29171646, 0.2802254 , 0.42805814])"
      ]
     },
     "execution_count": 27,
     "metadata": {},
     "output_type": "execute_result"
    }
   ],
   "source": [
    "# Result for e_3 after 5 multimplication\n",
    "c5 = A@c4\n",
    "c5"
   ]
  },
  {
   "cell_type": "code",
   "execution_count": 28,
   "id": "da13deb5",
   "metadata": {},
   "outputs": [],
   "source": [
    "# Conclusion, the results for e_1, e_2. e_3 after 5 multiplications are similar to each other"
   ]
  },
  {
   "cell_type": "markdown",
   "id": "fa2c9a93",
   "metadata": {},
   "source": [
    "*2.* Let's consider a simple Markov transition matrix over two states:\n",
    "$$\n",
    "T = \\left[ \\begin{array}{cc} p_{1\\leftarrow 1} &  p_{1\\leftarrow 2} \\\\\n",
    "p_{2 \\leftarrow 1} & p_{2 \\leftarrow 2} \\end{array}\\right] \n",
    "$$\n",
    "The arrows help visualize the transition a bit: This is the same index notation as usual, $p_{ij}$, but writing it $p_{i \\leftarrow j}$ emphasizes that it's the proportion of times that state $j$ transitions to state $i$. Below, $T$ is given by\n",
    "$$\n",
    "T = \\left[ \\begin{array}{cc} .25 & .5 \\\\\n",
    ".75 & .5 \\end{array}\\right].\n",
    "$$\n",
    "\n",
    "- Start in state 1, at the initial condition $[1,0]$. Multiply that vector by $T$. Write out the result in terms of the formula and compute the result in a code chunk below. What is this object you're looking at, in terms of proportions and transitions?\n",
    "- Multiple by $T$ again. What do you get? This isn't a column of $T$. Explain in words what it is. (Hint: A forecast of what in what period?)\n",
    "- Keep multiplying the current vector of outcomes by $T$. When does it start to settle down without changing further?\n",
    "- Do the above analysis again, starting from the initial condition $[0,1]$. Do you get a different result?\n",
    "- The take-away is that, in the long run, these chains settle down into the long-run proportions, and the sensitivity on initial conditions vanishes. \n"
   ]
  },
  {
   "cell_type": "code",
   "execution_count": 29,
   "id": "4b6a775f",
   "metadata": {},
   "outputs": [],
   "source": [
    "T = np.array([[ 1/4, 1/2],\n",
    "                 [ 3/4, 1/2 ]])"
   ]
  },
  {
   "cell_type": "code",
   "execution_count": 30,
   "id": "3dc161a4",
   "metadata": {},
   "outputs": [
    {
     "data": {
      "text/plain": [
       "array([0.25, 0.75])"
      ]
     },
     "execution_count": 30,
     "metadata": {},
     "output_type": "execute_result"
    }
   ],
   "source": [
    "# start in state 1\n",
    "x = np.array([1,0])\n",
    "T@x\n",
    "# I'm looking at the distribution of staes after one step: 25% change in state 1 and 75% in state 2"
   ]
  },
  {
   "cell_type": "code",
   "execution_count": 31,
   "id": "20857091",
   "metadata": {},
   "outputs": [
    {
     "data": {
      "text/plain": [
       "array([0.4375, 0.5625])"
      ]
     },
     "execution_count": 31,
     "metadata": {},
     "output_type": "execute_result"
    }
   ],
   "source": [
    "# multiply T agian - State 2\n",
    "t2 = T@(T@x)\n",
    "t2\n",
    "# this is a forecast of the state distribution after two time periods"
   ]
  },
  {
   "cell_type": "code",
   "execution_count": 32,
   "id": "b4cdcd8a",
   "metadata": {},
   "outputs": [
    {
     "data": {
      "text/plain": [
       "array([0.390625, 0.609375])"
      ]
     },
     "execution_count": 32,
     "metadata": {},
     "output_type": "execute_result"
    }
   ],
   "source": [
    "# keep multipling T\n",
    "t3=T@t2\n",
    "t3"
   ]
  },
  {
   "cell_type": "code",
   "execution_count": 33,
   "id": "2eba1790",
   "metadata": {},
   "outputs": [
    {
     "data": {
      "text/plain": [
       "array([0.40234375, 0.59765625])"
      ]
     },
     "execution_count": 33,
     "metadata": {},
     "output_type": "execute_result"
    }
   ],
   "source": [
    "t4 = T@t3\n",
    "t4\n",
    "# at around forth multiplication it settles down to (0.4,0.6)"
   ]
  },
  {
   "cell_type": "code",
   "execution_count": 34,
   "id": "19df2df7",
   "metadata": {},
   "outputs": [
    {
     "data": {
      "text/plain": [
       "array([0.5, 0.5])"
      ]
     },
     "execution_count": 34,
     "metadata": {},
     "output_type": "execute_result"
    }
   ],
   "source": [
    "# do this agian for [0,1]\n",
    "x = np.array([0,1])\n",
    "T@x"
   ]
  },
  {
   "cell_type": "code",
   "execution_count": 35,
   "id": "ef4b2215",
   "metadata": {},
   "outputs": [
    {
     "data": {
      "text/plain": [
       "array([0.375, 0.625])"
      ]
     },
     "execution_count": 35,
     "metadata": {},
     "output_type": "execute_result"
    }
   ],
   "source": [
    "t2 = T@(T@x)\n",
    "t2"
   ]
  },
  {
   "cell_type": "code",
   "execution_count": 36,
   "id": "a14ede3a",
   "metadata": {},
   "outputs": [
    {
     "data": {
      "text/plain": [
       "array([0.40625, 0.59375])"
      ]
     },
     "execution_count": 36,
     "metadata": {},
     "output_type": "execute_result"
    }
   ],
   "source": [
    "t3 = T@t2\n",
    "t3"
   ]
  },
  {
   "cell_type": "code",
   "execution_count": 37,
   "id": "afe094ca",
   "metadata": {},
   "outputs": [
    {
     "data": {
      "text/plain": [
       "array([0.3984375, 0.6015625])"
      ]
     },
     "execution_count": 37,
     "metadata": {},
     "output_type": "execute_result"
    }
   ],
   "source": [
    "t4 = T@t3\n",
    "t4\n",
    "# I got the same result (0.4,0.6)"
   ]
  },
  {
   "cell_type": "markdown",
   "id": "921592e9",
   "metadata": {},
   "source": [
    "3. Weather data\n",
    "\n",
    "- Load the `cville_weather.csv` data. This includes data from Jan 4, 2024 to Feb 2, 2025. Are there any missing data issues?\n",
    "- Based on the precipitation variable, `PRCP`, make a new variable called `rain` that takes the value 1 if `PRCP`>0 and 0 otherwise.\n",
    "- Build a two-state Markov chain over the states 0 and 1 for the `rain` variable. \n",
    "- For your chain from c, how likely is it to rain if it was rainy yesterday? How likely is it to rain if it was clear yesterday?\n",
    "- Starting from a clear day, forecast the distribution. How quickly does it converge to a fixed result? What if you start from a rainy day?\n",
    "- Conditional on being rainy, plot a KDE of the `PRCP` variable.\n",
    "- Describe one way of making your model better for forecasting and simulation the weather.\n",
    "\n",
    "Congratulations, you now are a non-parametric meteorologist!"
   ]
  },
  {
   "cell_type": "code",
   "execution_count": 38,
   "id": "831fb0bc",
   "metadata": {},
   "outputs": [
    {
     "data": {
      "application/vnd.microsoft.datawrangler.viewer.v0+json": {
       "columns": [
        {
         "name": "index",
         "rawType": "int64",
         "type": "integer"
        },
        {
         "name": "STATION",
         "rawType": "object",
         "type": "string"
        },
        {
         "name": "NAME",
         "rawType": "object",
         "type": "string"
        },
        {
         "name": "DATE",
         "rawType": "object",
         "type": "string"
        },
        {
         "name": "DAPR",
         "rawType": "float64",
         "type": "float"
        },
        {
         "name": "DAPR_ATTRIBUTES",
         "rawType": "object",
         "type": "unknown"
        },
        {
         "name": "MDPR",
         "rawType": "float64",
         "type": "float"
        },
        {
         "name": "MDPR_ATTRIBUTES",
         "rawType": "object",
         "type": "unknown"
        },
        {
         "name": "PRCP",
         "rawType": "float64",
         "type": "float"
        },
        {
         "name": "PRCP_ATTRIBUTES",
         "rawType": "object",
         "type": "unknown"
        },
        {
         "name": "SNOW",
         "rawType": "float64",
         "type": "float"
        },
        {
         "name": "SNOW_ATTRIBUTES",
         "rawType": "object",
         "type": "unknown"
        },
        {
         "name": "SNWD",
         "rawType": "float64",
         "type": "float"
        },
        {
         "name": "SNWD_ATTRIBUTES",
         "rawType": "object",
         "type": "unknown"
        }
       ],
       "ref": "d1b587db-6fbe-4d71-958c-f009ca98ae40",
       "rows": [
        [
         "0",
         "US1VACRC002",
         "CHARLOTTESVILLE 0.5 NNE, VA US",
         "2024-01-04",
         null,
         null,
         null,
         null,
         "0.03",
         ",,N",
         null,
         null,
         null,
         null
        ],
        [
         "1",
         "US1VACRC002",
         "CHARLOTTESVILLE 0.5 NNE, VA US",
         "2024-01-07",
         null,
         null,
         null,
         null,
         "1.08",
         ",,N",
         null,
         null,
         null,
         null
        ],
        [
         "2",
         "US1VACRC002",
         "CHARLOTTESVILLE 0.5 NNE, VA US",
         "2024-01-09",
         null,
         null,
         null,
         null,
         "0.24",
         ",,N",
         null,
         null,
         null,
         null
        ],
        [
         "3",
         "US1VACRC002",
         "CHARLOTTESVILLE 0.5 NNE, VA US",
         "2024-01-10",
         null,
         null,
         null,
         null,
         "3.0",
         ",,N",
         null,
         null,
         null,
         null
        ],
        [
         "4",
         "US1VACRC002",
         "CHARLOTTESVILLE 0.5 NNE, VA US",
         "2024-01-24",
         null,
         null,
         null,
         null,
         "0.0",
         ",,N",
         "0.0",
         ",,N",
         null,
         null
        ],
        [
         "5",
         "US1VACRC002",
         "CHARLOTTESVILLE 0.5 NNE, VA US",
         "2024-01-25",
         null,
         null,
         null,
         null,
         "0.18",
         ",,N",
         null,
         null,
         null,
         null
        ],
        [
         "6",
         "US1VACRC002",
         "CHARLOTTESVILLE 0.5 NNE, VA US",
         "2024-01-26",
         null,
         null,
         null,
         null,
         "0.08",
         ",,N",
         null,
         null,
         null,
         null
        ],
        [
         "7",
         "US1VACRC002",
         "CHARLOTTESVILLE 0.5 NNE, VA US",
         "2024-01-27",
         null,
         null,
         null,
         null,
         "0.0",
         ",,N",
         "0.0",
         ",,N",
         null,
         null
        ],
        [
         "8",
         "US1VACRC002",
         "CHARLOTTESVILLE 0.5 NNE, VA US",
         "2024-01-28",
         null,
         null,
         null,
         null,
         "1.29",
         ",,N",
         null,
         null,
         null,
         null
        ],
        [
         "9",
         "US1VACRC002",
         "CHARLOTTESVILLE 0.5 NNE, VA US",
         "2024-01-29",
         null,
         null,
         null,
         null,
         "0.19",
         ",,N",
         null,
         null,
         null,
         null
        ],
        [
         "10",
         "US1VACRC002",
         "CHARLOTTESVILLE 0.5 NNE, VA US",
         "2024-01-30",
         null,
         null,
         null,
         null,
         "0.0",
         ",,N",
         "0.0",
         ",,N",
         null,
         null
        ],
        [
         "11",
         "US1VACRC002",
         "CHARLOTTESVILLE 0.5 NNE, VA US",
         "2024-01-31",
         null,
         null,
         null,
         null,
         "0.02",
         ",,N",
         null,
         null,
         null,
         null
        ],
        [
         "12",
         "US1VACRC002",
         "CHARLOTTESVILLE 0.5 NNE, VA US",
         "2024-02-01",
         null,
         null,
         null,
         null,
         "0.0",
         ",,N",
         "0.0",
         ",,N",
         null,
         null
        ],
        [
         "13",
         "US1VACRC002",
         "CHARLOTTESVILLE 0.5 NNE, VA US",
         "2024-02-02",
         null,
         null,
         null,
         null,
         "0.0",
         ",,N",
         "0.0",
         ",,N",
         null,
         null
        ],
        [
         "14",
         "US1VACRC002",
         "CHARLOTTESVILLE 0.5 NNE, VA US",
         "2024-02-03",
         null,
         null,
         null,
         null,
         "0.0",
         ",,N",
         "0.0",
         ",,N",
         null,
         null
        ],
        [
         "15",
         "US1VACRC002",
         "CHARLOTTESVILLE 0.5 NNE, VA US",
         "2024-02-04",
         null,
         null,
         null,
         null,
         "0.0",
         ",,N",
         "0.0",
         ",,N",
         null,
         null
        ],
        [
         "16",
         "US1VACRC002",
         "CHARLOTTESVILLE 0.5 NNE, VA US",
         "2024-02-05",
         null,
         null,
         null,
         null,
         "0.0",
         ",,N",
         "0.0",
         ",,N",
         null,
         null
        ],
        [
         "17",
         "US1VACRC002",
         "CHARLOTTESVILLE 0.5 NNE, VA US",
         "2024-02-06",
         null,
         null,
         null,
         null,
         "0.0",
         ",,N",
         "0.0",
         ",,N",
         null,
         null
        ],
        [
         "18",
         "US1VACRC002",
         "CHARLOTTESVILLE 0.5 NNE, VA US",
         "2024-02-07",
         null,
         null,
         null,
         null,
         "0.0",
         ",,N",
         "0.0",
         ",,N",
         null,
         null
        ],
        [
         "19",
         "US1VACRC002",
         "CHARLOTTESVILLE 0.5 NNE, VA US",
         "2024-02-08",
         null,
         null,
         null,
         null,
         "0.0",
         ",,N",
         "0.0",
         ",,N",
         null,
         null
        ],
        [
         "20",
         "US1VACRC002",
         "CHARLOTTESVILLE 0.5 NNE, VA US",
         "2024-02-09",
         null,
         null,
         null,
         null,
         "0.0",
         ",,N",
         "0.0",
         ",,N",
         null,
         null
        ],
        [
         "21",
         "US1VACRC002",
         "CHARLOTTESVILLE 0.5 NNE, VA US",
         "2024-02-10",
         null,
         null,
         null,
         null,
         "0.0",
         ",,N",
         "0.0",
         ",,N",
         null,
         null
        ],
        [
         "22",
         "US1VACRC002",
         "CHARLOTTESVILLE 0.5 NNE, VA US",
         "2024-02-11",
         null,
         null,
         null,
         null,
         "0.14",
         ",,N",
         null,
         null,
         null,
         null
        ],
        [
         "23",
         "US1VACRC002",
         "CHARLOTTESVILLE 0.5 NNE, VA US",
         "2024-02-12",
         null,
         null,
         null,
         null,
         "0.25",
         ",,N",
         null,
         null,
         null,
         null
        ],
        [
         "24",
         "US1VACRC002",
         "CHARLOTTESVILLE 0.5 NNE, VA US",
         "2024-02-13",
         null,
         null,
         null,
         null,
         "0.92",
         ",,N",
         null,
         null,
         null,
         null
        ],
        [
         "25",
         "US1VACRC002",
         "CHARLOTTESVILLE 0.5 NNE, VA US",
         "2024-02-14",
         null,
         null,
         null,
         null,
         "0.0",
         ",,N",
         "0.0",
         ",,N",
         null,
         null
        ],
        [
         "26",
         "US1VACRC002",
         "CHARLOTTESVILLE 0.5 NNE, VA US",
         "2024-02-15",
         null,
         null,
         null,
         null,
         "0.0",
         ",,N",
         "0.0",
         ",,N",
         null,
         null
        ],
        [
         "27",
         "US1VACRC002",
         "CHARLOTTESVILLE 0.5 NNE, VA US",
         "2024-02-16",
         null,
         null,
         null,
         null,
         "0.0",
         ",,N",
         "0.0",
         ",,N",
         null,
         null
        ],
        [
         "28",
         "US1VACRC002",
         "CHARLOTTESVILLE 0.5 NNE, VA US",
         "2024-02-17",
         null,
         null,
         null,
         null,
         "0.0",
         ",,N",
         "0.0",
         ",,N",
         null,
         null
        ],
        [
         "29",
         "US1VACRC002",
         "CHARLOTTESVILLE 0.5 NNE, VA US",
         "2024-02-18",
         null,
         null,
         null,
         null,
         "0.07",
         ",,N",
         null,
         null,
         null,
         null
        ],
        [
         "30",
         "US1VACRC002",
         "CHARLOTTESVILLE 0.5 NNE, VA US",
         "2024-02-19",
         null,
         null,
         null,
         null,
         "0.0",
         ",,N",
         "0.0",
         ",,N",
         null,
         null
        ],
        [
         "31",
         "US1VACRC002",
         "CHARLOTTESVILLE 0.5 NNE, VA US",
         "2024-02-20",
         null,
         null,
         null,
         null,
         "0.0",
         ",,N",
         "0.0",
         ",,N",
         null,
         null
        ],
        [
         "32",
         "US1VACRC002",
         "CHARLOTTESVILLE 0.5 NNE, VA US",
         "2024-02-21",
         null,
         null,
         null,
         null,
         "0.0",
         ",,N",
         "0.0",
         ",,N",
         null,
         null
        ],
        [
         "33",
         "US1VACRC002",
         "CHARLOTTESVILLE 0.5 NNE, VA US",
         "2024-02-22",
         null,
         null,
         null,
         null,
         "0.0",
         ",,N",
         "0.0",
         ",,N",
         null,
         null
        ],
        [
         "34",
         "US1VACRC002",
         "CHARLOTTESVILLE 0.5 NNE, VA US",
         "2024-02-23",
         null,
         null,
         null,
         null,
         "0.0",
         ",,N",
         "0.0",
         ",,N",
         null,
         null
        ],
        [
         "35",
         "US1VACRC002",
         "CHARLOTTESVILLE 0.5 NNE, VA US",
         "2024-02-24",
         null,
         null,
         null,
         null,
         "0.12",
         ",,N",
         null,
         null,
         null,
         null
        ],
        [
         "36",
         "US1VACRC002",
         "CHARLOTTESVILLE 0.5 NNE, VA US",
         "2024-02-25",
         null,
         null,
         null,
         null,
         "0.36",
         ",,N",
         null,
         null,
         null,
         null
        ],
        [
         "37",
         "US1VACRC002",
         "CHARLOTTESVILLE 0.5 NNE, VA US",
         "2024-02-26",
         null,
         null,
         null,
         null,
         "0.0",
         ",,N",
         "0.0",
         ",,N",
         null,
         null
        ],
        [
         "38",
         "US1VACRC002",
         "CHARLOTTESVILLE 0.5 NNE, VA US",
         "2024-02-27",
         null,
         null,
         null,
         null,
         "0.0",
         ",,N",
         "0.0",
         ",,N",
         null,
         null
        ],
        [
         "39",
         "US1VACRC002",
         "CHARLOTTESVILLE 0.5 NNE, VA US",
         "2024-02-28",
         null,
         null,
         null,
         null,
         "0.22",
         ",,N",
         null,
         null,
         null,
         null
        ],
        [
         "40",
         "US1VACRC002",
         "CHARLOTTESVILLE 0.5 NNE, VA US",
         "2024-03-01",
         null,
         null,
         null,
         null,
         "0.0",
         ",,N",
         "0.0",
         ",,N",
         null,
         null
        ],
        [
         "41",
         "US1VACRC002",
         "CHARLOTTESVILLE 0.5 NNE, VA US",
         "2024-03-05",
         "4.0",
         ",,N",
         "1.17",
         ",,N",
         null,
         null,
         null,
         null,
         null,
         null
        ],
        [
         "42",
         "US1VACRC002",
         "CHARLOTTESVILLE 0.5 NNE, VA US",
         "2024-03-07",
         null,
         null,
         null,
         null,
         "0.25",
         ",,N",
         null,
         null,
         null,
         null
        ],
        [
         "43",
         "US1VACRC002",
         "CHARLOTTESVILLE 0.5 NNE, VA US",
         "2024-03-09",
         null,
         null,
         null,
         null,
         "0.22",
         ",,N",
         null,
         null,
         null,
         null
        ],
        [
         "44",
         "US1VACRC002",
         "CHARLOTTESVILLE 0.5 NNE, VA US",
         "2024-03-23",
         null,
         null,
         null,
         null,
         "0.99",
         ",,N",
         null,
         null,
         null,
         null
        ],
        [
         "45",
         "US1VACRC002",
         "CHARLOTTESVILLE 0.5 NNE, VA US",
         "2024-03-24",
         null,
         null,
         null,
         null,
         "0.0",
         ",,N",
         "0.0",
         ",,N",
         null,
         null
        ],
        [
         "46",
         "US1VACRC002",
         "CHARLOTTESVILLE 0.5 NNE, VA US",
         "2024-03-25",
         null,
         null,
         null,
         null,
         "0.0",
         ",,N",
         "0.0",
         ",,N",
         null,
         null
        ],
        [
         "47",
         "US1VACRC002",
         "CHARLOTTESVILLE 0.5 NNE, VA US",
         "2024-03-26",
         null,
         null,
         null,
         null,
         "0.0",
         ",,N",
         "0.0",
         ",,N",
         null,
         null
        ],
        [
         "48",
         "US1VACRC002",
         "CHARLOTTESVILLE 0.5 NNE, VA US",
         "2024-03-27",
         null,
         null,
         null,
         null,
         "0.0",
         ",,N",
         "0.0",
         ",,N",
         null,
         null
        ],
        [
         "49",
         "US1VACRC002",
         "CHARLOTTESVILLE 0.5 NNE, VA US",
         "2024-03-28",
         null,
         null,
         null,
         null,
         "0.47",
         ",,N",
         null,
         null,
         null,
         null
        ]
       ],
       "shape": {
        "columns": 13,
        "rows": 411
       }
      },
      "text/html": [
       "<div>\n",
       "<style scoped>\n",
       "    .dataframe tbody tr th:only-of-type {\n",
       "        vertical-align: middle;\n",
       "    }\n",
       "\n",
       "    .dataframe tbody tr th {\n",
       "        vertical-align: top;\n",
       "    }\n",
       "\n",
       "    .dataframe thead th {\n",
       "        text-align: right;\n",
       "    }\n",
       "</style>\n",
       "<table border=\"1\" class=\"dataframe\">\n",
       "  <thead>\n",
       "    <tr style=\"text-align: right;\">\n",
       "      <th></th>\n",
       "      <th>STATION</th>\n",
       "      <th>NAME</th>\n",
       "      <th>DATE</th>\n",
       "      <th>DAPR</th>\n",
       "      <th>DAPR_ATTRIBUTES</th>\n",
       "      <th>MDPR</th>\n",
       "      <th>MDPR_ATTRIBUTES</th>\n",
       "      <th>PRCP</th>\n",
       "      <th>PRCP_ATTRIBUTES</th>\n",
       "      <th>SNOW</th>\n",
       "      <th>SNOW_ATTRIBUTES</th>\n",
       "      <th>SNWD</th>\n",
       "      <th>SNWD_ATTRIBUTES</th>\n",
       "    </tr>\n",
       "  </thead>\n",
       "  <tbody>\n",
       "    <tr>\n",
       "      <th>0</th>\n",
       "      <td>US1VACRC002</td>\n",
       "      <td>CHARLOTTESVILLE 0.5 NNE, VA US</td>\n",
       "      <td>2024-01-04</td>\n",
       "      <td>NaN</td>\n",
       "      <td>NaN</td>\n",
       "      <td>NaN</td>\n",
       "      <td>NaN</td>\n",
       "      <td>0.03</td>\n",
       "      <td>,,N</td>\n",
       "      <td>NaN</td>\n",
       "      <td>NaN</td>\n",
       "      <td>NaN</td>\n",
       "      <td>NaN</td>\n",
       "    </tr>\n",
       "    <tr>\n",
       "      <th>1</th>\n",
       "      <td>US1VACRC002</td>\n",
       "      <td>CHARLOTTESVILLE 0.5 NNE, VA US</td>\n",
       "      <td>2024-01-07</td>\n",
       "      <td>NaN</td>\n",
       "      <td>NaN</td>\n",
       "      <td>NaN</td>\n",
       "      <td>NaN</td>\n",
       "      <td>1.08</td>\n",
       "      <td>,,N</td>\n",
       "      <td>NaN</td>\n",
       "      <td>NaN</td>\n",
       "      <td>NaN</td>\n",
       "      <td>NaN</td>\n",
       "    </tr>\n",
       "    <tr>\n",
       "      <th>2</th>\n",
       "      <td>US1VACRC002</td>\n",
       "      <td>CHARLOTTESVILLE 0.5 NNE, VA US</td>\n",
       "      <td>2024-01-09</td>\n",
       "      <td>NaN</td>\n",
       "      <td>NaN</td>\n",
       "      <td>NaN</td>\n",
       "      <td>NaN</td>\n",
       "      <td>0.24</td>\n",
       "      <td>,,N</td>\n",
       "      <td>NaN</td>\n",
       "      <td>NaN</td>\n",
       "      <td>NaN</td>\n",
       "      <td>NaN</td>\n",
       "    </tr>\n",
       "    <tr>\n",
       "      <th>3</th>\n",
       "      <td>US1VACRC002</td>\n",
       "      <td>CHARLOTTESVILLE 0.5 NNE, VA US</td>\n",
       "      <td>2024-01-10</td>\n",
       "      <td>NaN</td>\n",
       "      <td>NaN</td>\n",
       "      <td>NaN</td>\n",
       "      <td>NaN</td>\n",
       "      <td>3.00</td>\n",
       "      <td>,,N</td>\n",
       "      <td>NaN</td>\n",
       "      <td>NaN</td>\n",
       "      <td>NaN</td>\n",
       "      <td>NaN</td>\n",
       "    </tr>\n",
       "    <tr>\n",
       "      <th>4</th>\n",
       "      <td>US1VACRC002</td>\n",
       "      <td>CHARLOTTESVILLE 0.5 NNE, VA US</td>\n",
       "      <td>2024-01-24</td>\n",
       "      <td>NaN</td>\n",
       "      <td>NaN</td>\n",
       "      <td>NaN</td>\n",
       "      <td>NaN</td>\n",
       "      <td>0.00</td>\n",
       "      <td>,,N</td>\n",
       "      <td>0.0</td>\n",
       "      <td>,,N</td>\n",
       "      <td>NaN</td>\n",
       "      <td>NaN</td>\n",
       "    </tr>\n",
       "    <tr>\n",
       "      <th>...</th>\n",
       "      <td>...</td>\n",
       "      <td>...</td>\n",
       "      <td>...</td>\n",
       "      <td>...</td>\n",
       "      <td>...</td>\n",
       "      <td>...</td>\n",
       "      <td>...</td>\n",
       "      <td>...</td>\n",
       "      <td>...</td>\n",
       "      <td>...</td>\n",
       "      <td>...</td>\n",
       "      <td>...</td>\n",
       "      <td>...</td>\n",
       "    </tr>\n",
       "    <tr>\n",
       "      <th>406</th>\n",
       "      <td>US1VAAB0010</td>\n",
       "      <td>CHARLOTTESVILLE 8.4 W, VA US</td>\n",
       "      <td>2025-01-27</td>\n",
       "      <td>NaN</td>\n",
       "      <td>NaN</td>\n",
       "      <td>NaN</td>\n",
       "      <td>NaN</td>\n",
       "      <td>0.00</td>\n",
       "      <td>,,N</td>\n",
       "      <td>0.0</td>\n",
       "      <td>,,N</td>\n",
       "      <td>NaN</td>\n",
       "      <td>NaN</td>\n",
       "    </tr>\n",
       "    <tr>\n",
       "      <th>407</th>\n",
       "      <td>US1VAAB0010</td>\n",
       "      <td>CHARLOTTESVILLE 8.4 W, VA US</td>\n",
       "      <td>2025-01-28</td>\n",
       "      <td>NaN</td>\n",
       "      <td>NaN</td>\n",
       "      <td>NaN</td>\n",
       "      <td>NaN</td>\n",
       "      <td>0.00</td>\n",
       "      <td>,,N</td>\n",
       "      <td>0.0</td>\n",
       "      <td>,,N</td>\n",
       "      <td>NaN</td>\n",
       "      <td>NaN</td>\n",
       "    </tr>\n",
       "    <tr>\n",
       "      <th>408</th>\n",
       "      <td>US1VAAB0010</td>\n",
       "      <td>CHARLOTTESVILLE 8.4 W, VA US</td>\n",
       "      <td>2025-01-29</td>\n",
       "      <td>NaN</td>\n",
       "      <td>NaN</td>\n",
       "      <td>NaN</td>\n",
       "      <td>NaN</td>\n",
       "      <td>0.00</td>\n",
       "      <td>,,N</td>\n",
       "      <td>0.0</td>\n",
       "      <td>,,N</td>\n",
       "      <td>NaN</td>\n",
       "      <td>NaN</td>\n",
       "    </tr>\n",
       "    <tr>\n",
       "      <th>409</th>\n",
       "      <td>US1VAAB0010</td>\n",
       "      <td>CHARLOTTESVILLE 8.4 W, VA US</td>\n",
       "      <td>2025-01-30</td>\n",
       "      <td>NaN</td>\n",
       "      <td>NaN</td>\n",
       "      <td>NaN</td>\n",
       "      <td>NaN</td>\n",
       "      <td>0.00</td>\n",
       "      <td>,,N</td>\n",
       "      <td>0.0</td>\n",
       "      <td>,,N</td>\n",
       "      <td>NaN</td>\n",
       "      <td>NaN</td>\n",
       "    </tr>\n",
       "    <tr>\n",
       "      <th>410</th>\n",
       "      <td>US1VAAB0010</td>\n",
       "      <td>CHARLOTTESVILLE 8.4 W, VA US</td>\n",
       "      <td>2025-02-01</td>\n",
       "      <td>2.0</td>\n",
       "      <td>,,N</td>\n",
       "      <td>0.6</td>\n",
       "      <td>,,N</td>\n",
       "      <td>NaN</td>\n",
       "      <td>NaN</td>\n",
       "      <td>NaN</td>\n",
       "      <td>NaN</td>\n",
       "      <td>NaN</td>\n",
       "      <td>NaN</td>\n",
       "    </tr>\n",
       "  </tbody>\n",
       "</table>\n",
       "<p>411 rows × 13 columns</p>\n",
       "</div>"
      ],
      "text/plain": [
       "         STATION                            NAME        DATE  DAPR  \\\n",
       "0    US1VACRC002  CHARLOTTESVILLE 0.5 NNE, VA US  2024-01-04   NaN   \n",
       "1    US1VACRC002  CHARLOTTESVILLE 0.5 NNE, VA US  2024-01-07   NaN   \n",
       "2    US1VACRC002  CHARLOTTESVILLE 0.5 NNE, VA US  2024-01-09   NaN   \n",
       "3    US1VACRC002  CHARLOTTESVILLE 0.5 NNE, VA US  2024-01-10   NaN   \n",
       "4    US1VACRC002  CHARLOTTESVILLE 0.5 NNE, VA US  2024-01-24   NaN   \n",
       "..           ...                             ...         ...   ...   \n",
       "406  US1VAAB0010    CHARLOTTESVILLE 8.4 W, VA US  2025-01-27   NaN   \n",
       "407  US1VAAB0010    CHARLOTTESVILLE 8.4 W, VA US  2025-01-28   NaN   \n",
       "408  US1VAAB0010    CHARLOTTESVILLE 8.4 W, VA US  2025-01-29   NaN   \n",
       "409  US1VAAB0010    CHARLOTTESVILLE 8.4 W, VA US  2025-01-30   NaN   \n",
       "410  US1VAAB0010    CHARLOTTESVILLE 8.4 W, VA US  2025-02-01   2.0   \n",
       "\n",
       "    DAPR_ATTRIBUTES  MDPR MDPR_ATTRIBUTES  PRCP PRCP_ATTRIBUTES  SNOW  \\\n",
       "0               NaN   NaN             NaN  0.03             ,,N   NaN   \n",
       "1               NaN   NaN             NaN  1.08             ,,N   NaN   \n",
       "2               NaN   NaN             NaN  0.24             ,,N   NaN   \n",
       "3               NaN   NaN             NaN  3.00             ,,N   NaN   \n",
       "4               NaN   NaN             NaN  0.00             ,,N   0.0   \n",
       "..              ...   ...             ...   ...             ...   ...   \n",
       "406             NaN   NaN             NaN  0.00             ,,N   0.0   \n",
       "407             NaN   NaN             NaN  0.00             ,,N   0.0   \n",
       "408             NaN   NaN             NaN  0.00             ,,N   0.0   \n",
       "409             NaN   NaN             NaN  0.00             ,,N   0.0   \n",
       "410             ,,N   0.6             ,,N   NaN             NaN   NaN   \n",
       "\n",
       "    SNOW_ATTRIBUTES  SNWD SNWD_ATTRIBUTES  \n",
       "0               NaN   NaN             NaN  \n",
       "1               NaN   NaN             NaN  \n",
       "2               NaN   NaN             NaN  \n",
       "3               NaN   NaN             NaN  \n",
       "4               ,,N   NaN             NaN  \n",
       "..              ...   ...             ...  \n",
       "406             ,,N   NaN             NaN  \n",
       "407             ,,N   NaN             NaN  \n",
       "408             ,,N   NaN             NaN  \n",
       "409             ,,N   NaN             NaN  \n",
       "410             NaN   NaN             NaN  \n",
       "\n",
       "[411 rows x 13 columns]"
      ]
     },
     "execution_count": 38,
     "metadata": {},
     "output_type": "execute_result"
    }
   ],
   "source": [
    "# load in data\n",
    "import pandas as pd\n",
    "\n",
    "df = pd.read_csv('data/cville_weather.csv')\n",
    "df\n",
    "# yes, there are missing data issues in many columns"
   ]
  },
  {
   "cell_type": "code",
   "execution_count": 39,
   "id": "f7110e2a",
   "metadata": {},
   "outputs": [
    {
     "data": {
      "application/vnd.microsoft.datawrangler.viewer.v0+json": {
       "columns": [
        {
         "name": "index",
         "rawType": "int64",
         "type": "integer"
        },
        {
         "name": "PRCP",
         "rawType": "float64",
         "type": "float"
        },
        {
         "name": "rain",
         "rawType": "int64",
         "type": "integer"
        }
       ],
       "ref": "1ff03b0b-a8e1-4066-b359-d3cbcca7a3d8",
       "rows": [
        [
         "0",
         "0.03",
         "1"
        ],
        [
         "1",
         "1.08",
         "1"
        ],
        [
         "2",
         "0.24",
         "1"
        ],
        [
         "3",
         "3.0",
         "1"
        ],
        [
         "4",
         "0.0",
         "0"
        ],
        [
         "5",
         "0.18",
         "1"
        ],
        [
         "6",
         "0.08",
         "1"
        ],
        [
         "7",
         "0.0",
         "0"
        ],
        [
         "8",
         "1.29",
         "1"
        ],
        [
         "9",
         "0.19",
         "1"
        ],
        [
         "10",
         "0.0",
         "0"
        ],
        [
         "11",
         "0.02",
         "1"
        ],
        [
         "12",
         "0.0",
         "0"
        ],
        [
         "13",
         "0.0",
         "0"
        ],
        [
         "14",
         "0.0",
         "0"
        ],
        [
         "15",
         "0.0",
         "0"
        ],
        [
         "16",
         "0.0",
         "0"
        ],
        [
         "17",
         "0.0",
         "0"
        ],
        [
         "18",
         "0.0",
         "0"
        ],
        [
         "19",
         "0.0",
         "0"
        ],
        [
         "20",
         "0.0",
         "0"
        ],
        [
         "21",
         "0.0",
         "0"
        ],
        [
         "22",
         "0.14",
         "1"
        ],
        [
         "23",
         "0.25",
         "1"
        ],
        [
         "24",
         "0.92",
         "1"
        ],
        [
         "25",
         "0.0",
         "0"
        ],
        [
         "26",
         "0.0",
         "0"
        ],
        [
         "27",
         "0.0",
         "0"
        ],
        [
         "28",
         "0.0",
         "0"
        ],
        [
         "29",
         "0.07",
         "1"
        ],
        [
         "30",
         "0.0",
         "0"
        ],
        [
         "31",
         "0.0",
         "0"
        ],
        [
         "32",
         "0.0",
         "0"
        ],
        [
         "33",
         "0.0",
         "0"
        ],
        [
         "34",
         "0.0",
         "0"
        ],
        [
         "35",
         "0.12",
         "1"
        ],
        [
         "36",
         "0.36",
         "1"
        ],
        [
         "37",
         "0.0",
         "0"
        ],
        [
         "38",
         "0.0",
         "0"
        ],
        [
         "39",
         "0.22",
         "1"
        ],
        [
         "40",
         "0.0",
         "0"
        ],
        [
         "41",
         null,
         "0"
        ],
        [
         "42",
         "0.25",
         "1"
        ],
        [
         "43",
         "0.22",
         "1"
        ],
        [
         "44",
         "0.99",
         "1"
        ],
        [
         "45",
         "0.0",
         "0"
        ],
        [
         "46",
         "0.0",
         "0"
        ],
        [
         "47",
         "0.0",
         "0"
        ],
        [
         "48",
         "0.0",
         "0"
        ],
        [
         "49",
         "0.47",
         "1"
        ]
       ],
       "shape": {
        "columns": 2,
        "rows": 411
       }
      },
      "text/html": [
       "<div>\n",
       "<style scoped>\n",
       "    .dataframe tbody tr th:only-of-type {\n",
       "        vertical-align: middle;\n",
       "    }\n",
       "\n",
       "    .dataframe tbody tr th {\n",
       "        vertical-align: top;\n",
       "    }\n",
       "\n",
       "    .dataframe thead th {\n",
       "        text-align: right;\n",
       "    }\n",
       "</style>\n",
       "<table border=\"1\" class=\"dataframe\">\n",
       "  <thead>\n",
       "    <tr style=\"text-align: right;\">\n",
       "      <th></th>\n",
       "      <th>PRCP</th>\n",
       "      <th>rain</th>\n",
       "    </tr>\n",
       "  </thead>\n",
       "  <tbody>\n",
       "    <tr>\n",
       "      <th>0</th>\n",
       "      <td>0.03</td>\n",
       "      <td>1</td>\n",
       "    </tr>\n",
       "    <tr>\n",
       "      <th>1</th>\n",
       "      <td>1.08</td>\n",
       "      <td>1</td>\n",
       "    </tr>\n",
       "    <tr>\n",
       "      <th>2</th>\n",
       "      <td>0.24</td>\n",
       "      <td>1</td>\n",
       "    </tr>\n",
       "    <tr>\n",
       "      <th>3</th>\n",
       "      <td>3.00</td>\n",
       "      <td>1</td>\n",
       "    </tr>\n",
       "    <tr>\n",
       "      <th>4</th>\n",
       "      <td>0.00</td>\n",
       "      <td>0</td>\n",
       "    </tr>\n",
       "    <tr>\n",
       "      <th>...</th>\n",
       "      <td>...</td>\n",
       "      <td>...</td>\n",
       "    </tr>\n",
       "    <tr>\n",
       "      <th>406</th>\n",
       "      <td>0.00</td>\n",
       "      <td>0</td>\n",
       "    </tr>\n",
       "    <tr>\n",
       "      <th>407</th>\n",
       "      <td>0.00</td>\n",
       "      <td>0</td>\n",
       "    </tr>\n",
       "    <tr>\n",
       "      <th>408</th>\n",
       "      <td>0.00</td>\n",
       "      <td>0</td>\n",
       "    </tr>\n",
       "    <tr>\n",
       "      <th>409</th>\n",
       "      <td>0.00</td>\n",
       "      <td>0</td>\n",
       "    </tr>\n",
       "    <tr>\n",
       "      <th>410</th>\n",
       "      <td>NaN</td>\n",
       "      <td>0</td>\n",
       "    </tr>\n",
       "  </tbody>\n",
       "</table>\n",
       "<p>411 rows × 2 columns</p>\n",
       "</div>"
      ],
      "text/plain": [
       "     PRCP  rain\n",
       "0    0.03     1\n",
       "1    1.08     1\n",
       "2    0.24     1\n",
       "3    3.00     1\n",
       "4    0.00     0\n",
       "..    ...   ...\n",
       "406  0.00     0\n",
       "407  0.00     0\n",
       "408  0.00     0\n",
       "409  0.00     0\n",
       "410   NaN     0\n",
       "\n",
       "[411 rows x 2 columns]"
      ]
     },
     "execution_count": 39,
     "metadata": {},
     "output_type": "execute_result"
    }
   ],
   "source": [
    "# create new variable 'rain' based on 'PRCP'\n",
    "df['rain']= np.where(df['PRCP']>0, 1, 0)\n",
    "df[['PRCP', 'rain']]"
   ]
  },
  {
   "cell_type": "code",
   "execution_count": 40,
   "id": "11e90dc7",
   "metadata": {},
   "outputs": [
    {
     "data": {
      "application/vnd.microsoft.datawrangler.viewer.v0+json": {
       "columns": [
        {
         "name": "index",
         "rawType": "int64",
         "type": "integer"
        },
        {
         "name": "prev_day",
         "rawType": "float64",
         "type": "float"
        },
        {
         "name": "rain",
         "rawType": "int64",
         "type": "integer"
        }
       ],
       "ref": "95553881-3aea-4f1c-93a9-ccfe32493d7a",
       "rows": [
        [
         "0",
         null,
         "1"
        ],
        [
         "1",
         "1.0",
         "1"
        ],
        [
         "2",
         "1.0",
         "1"
        ],
        [
         "3",
         "1.0",
         "1"
        ],
        [
         "4",
         "1.0",
         "0"
        ],
        [
         "5",
         "0.0",
         "1"
        ],
        [
         "6",
         "1.0",
         "1"
        ],
        [
         "7",
         "1.0",
         "0"
        ],
        [
         "8",
         "0.0",
         "1"
        ],
        [
         "9",
         "1.0",
         "1"
        ],
        [
         "10",
         "1.0",
         "0"
        ],
        [
         "11",
         "0.0",
         "1"
        ],
        [
         "12",
         "1.0",
         "0"
        ],
        [
         "13",
         "0.0",
         "0"
        ],
        [
         "14",
         "0.0",
         "0"
        ],
        [
         "15",
         "0.0",
         "0"
        ],
        [
         "16",
         "0.0",
         "0"
        ],
        [
         "17",
         "0.0",
         "0"
        ],
        [
         "18",
         "0.0",
         "0"
        ],
        [
         "19",
         "0.0",
         "0"
        ],
        [
         "20",
         "0.0",
         "0"
        ],
        [
         "21",
         "0.0",
         "0"
        ],
        [
         "22",
         "0.0",
         "1"
        ],
        [
         "23",
         "1.0",
         "1"
        ],
        [
         "24",
         "1.0",
         "1"
        ],
        [
         "25",
         "1.0",
         "0"
        ],
        [
         "26",
         "0.0",
         "0"
        ],
        [
         "27",
         "0.0",
         "0"
        ],
        [
         "28",
         "0.0",
         "0"
        ],
        [
         "29",
         "0.0",
         "1"
        ],
        [
         "30",
         "1.0",
         "0"
        ],
        [
         "31",
         "0.0",
         "0"
        ],
        [
         "32",
         "0.0",
         "0"
        ],
        [
         "33",
         "0.0",
         "0"
        ],
        [
         "34",
         "0.0",
         "0"
        ],
        [
         "35",
         "0.0",
         "1"
        ],
        [
         "36",
         "1.0",
         "1"
        ],
        [
         "37",
         "1.0",
         "0"
        ],
        [
         "38",
         "0.0",
         "0"
        ],
        [
         "39",
         "0.0",
         "1"
        ],
        [
         "40",
         "1.0",
         "0"
        ],
        [
         "41",
         "0.0",
         "0"
        ],
        [
         "42",
         "0.0",
         "1"
        ],
        [
         "43",
         "1.0",
         "1"
        ],
        [
         "44",
         "1.0",
         "1"
        ],
        [
         "45",
         "1.0",
         "0"
        ],
        [
         "46",
         "0.0",
         "0"
        ],
        [
         "47",
         "0.0",
         "0"
        ],
        [
         "48",
         "0.0",
         "0"
        ],
        [
         "49",
         "0.0",
         "1"
        ]
       ],
       "shape": {
        "columns": 2,
        "rows": 411
       }
      },
      "text/html": [
       "<div>\n",
       "<style scoped>\n",
       "    .dataframe tbody tr th:only-of-type {\n",
       "        vertical-align: middle;\n",
       "    }\n",
       "\n",
       "    .dataframe tbody tr th {\n",
       "        vertical-align: top;\n",
       "    }\n",
       "\n",
       "    .dataframe thead th {\n",
       "        text-align: right;\n",
       "    }\n",
       "</style>\n",
       "<table border=\"1\" class=\"dataframe\">\n",
       "  <thead>\n",
       "    <tr style=\"text-align: right;\">\n",
       "      <th></th>\n",
       "      <th>prev_day</th>\n",
       "      <th>rain</th>\n",
       "    </tr>\n",
       "  </thead>\n",
       "  <tbody>\n",
       "    <tr>\n",
       "      <th>0</th>\n",
       "      <td>NaN</td>\n",
       "      <td>1</td>\n",
       "    </tr>\n",
       "    <tr>\n",
       "      <th>1</th>\n",
       "      <td>1.0</td>\n",
       "      <td>1</td>\n",
       "    </tr>\n",
       "    <tr>\n",
       "      <th>2</th>\n",
       "      <td>1.0</td>\n",
       "      <td>1</td>\n",
       "    </tr>\n",
       "    <tr>\n",
       "      <th>3</th>\n",
       "      <td>1.0</td>\n",
       "      <td>1</td>\n",
       "    </tr>\n",
       "    <tr>\n",
       "      <th>4</th>\n",
       "      <td>1.0</td>\n",
       "      <td>0</td>\n",
       "    </tr>\n",
       "    <tr>\n",
       "      <th>...</th>\n",
       "      <td>...</td>\n",
       "      <td>...</td>\n",
       "    </tr>\n",
       "    <tr>\n",
       "      <th>406</th>\n",
       "      <td>0.0</td>\n",
       "      <td>0</td>\n",
       "    </tr>\n",
       "    <tr>\n",
       "      <th>407</th>\n",
       "      <td>0.0</td>\n",
       "      <td>0</td>\n",
       "    </tr>\n",
       "    <tr>\n",
       "      <th>408</th>\n",
       "      <td>0.0</td>\n",
       "      <td>0</td>\n",
       "    </tr>\n",
       "    <tr>\n",
       "      <th>409</th>\n",
       "      <td>0.0</td>\n",
       "      <td>0</td>\n",
       "    </tr>\n",
       "    <tr>\n",
       "      <th>410</th>\n",
       "      <td>0.0</td>\n",
       "      <td>0</td>\n",
       "    </tr>\n",
       "  </tbody>\n",
       "</table>\n",
       "<p>411 rows × 2 columns</p>\n",
       "</div>"
      ],
      "text/plain": [
       "     prev_day  rain\n",
       "0         NaN     1\n",
       "1         1.0     1\n",
       "2         1.0     1\n",
       "3         1.0     1\n",
       "4         1.0     0\n",
       "..        ...   ...\n",
       "406       0.0     0\n",
       "407       0.0     0\n",
       "408       0.0     0\n",
       "409       0.0     0\n",
       "410       0.0     0\n",
       "\n",
       "[411 rows x 2 columns]"
      ]
     },
     "execution_count": 40,
     "metadata": {},
     "output_type": "execute_result"
    }
   ],
   "source": [
    "# Building a two-state Markov chain over states 0 and 1 for rain variable\n",
    "# setup previous day column\n",
    "df['prev_day'] = df['rain'].shift(1)\n",
    "df[['prev_day','rain']]"
   ]
  },
  {
   "cell_type": "code",
   "execution_count": 41,
   "id": "acf8c9cf",
   "metadata": {},
   "outputs": [
    {
     "data": {
      "application/vnd.microsoft.datawrangler.viewer.v0+json": {
       "columns": [
        {
         "name": "rain",
         "rawType": "int64",
         "type": "integer"
        },
        {
         "name": "0.0",
         "rawType": "int64",
         "type": "integer"
        },
        {
         "name": "1.0",
         "rawType": "int64",
         "type": "integer"
        }
       ],
       "ref": "e9b81da4-85af-41f4-885f-797957ff66ec",
       "rows": [
        [
         "0",
         "169",
         "63"
        ],
        [
         "1",
         "62",
         "116"
        ]
       ],
       "shape": {
        "columns": 2,
        "rows": 2
       }
      },
      "text/html": [
       "<div>\n",
       "<style scoped>\n",
       "    .dataframe tbody tr th:only-of-type {\n",
       "        vertical-align: middle;\n",
       "    }\n",
       "\n",
       "    .dataframe tbody tr th {\n",
       "        vertical-align: top;\n",
       "    }\n",
       "\n",
       "    .dataframe thead th {\n",
       "        text-align: right;\n",
       "    }\n",
       "</style>\n",
       "<table border=\"1\" class=\"dataframe\">\n",
       "  <thead>\n",
       "    <tr style=\"text-align: right;\">\n",
       "      <th>prev_day</th>\n",
       "      <th>0.0</th>\n",
       "      <th>1.0</th>\n",
       "    </tr>\n",
       "    <tr>\n",
       "      <th>rain</th>\n",
       "      <th></th>\n",
       "      <th></th>\n",
       "    </tr>\n",
       "  </thead>\n",
       "  <tbody>\n",
       "    <tr>\n",
       "      <th>0</th>\n",
       "      <td>169</td>\n",
       "      <td>63</td>\n",
       "    </tr>\n",
       "    <tr>\n",
       "      <th>1</th>\n",
       "      <td>62</td>\n",
       "      <td>116</td>\n",
       "    </tr>\n",
       "  </tbody>\n",
       "</table>\n",
       "</div>"
      ],
      "text/plain": [
       "prev_day  0.0  1.0\n",
       "rain              \n",
       "0         169   63\n",
       "1          62  116"
      ]
     },
     "execution_count": 41,
     "metadata": {},
     "output_type": "execute_result"
    }
   ],
   "source": [
    "# count transitions\n",
    "counts = pd.crosstab(df['rain'], df['prev_day'])\n",
    "counts"
   ]
  },
  {
   "cell_type": "code",
   "execution_count": 42,
   "id": "e67cb8bf",
   "metadata": {},
   "outputs": [
    {
     "data": {
      "application/vnd.microsoft.datawrangler.viewer.v0+json": {
       "columns": [
        {
         "name": "rain",
         "rawType": "int64",
         "type": "integer"
        },
        {
         "name": "0.0",
         "rawType": "float64",
         "type": "float"
        },
        {
         "name": "1.0",
         "rawType": "float64",
         "type": "float"
        }
       ],
       "ref": "1d71082b-7afc-425f-bea2-1531251f513d",
       "rows": [
        [
         "0",
         "0.7316017316017316",
         "0.35195530726256985"
        ],
        [
         "1",
         "0.2683982683982684",
         "0.6480446927374302"
        ]
       ],
       "shape": {
        "columns": 2,
        "rows": 2
       }
      },
      "text/html": [
       "<div>\n",
       "<style scoped>\n",
       "    .dataframe tbody tr th:only-of-type {\n",
       "        vertical-align: middle;\n",
       "    }\n",
       "\n",
       "    .dataframe tbody tr th {\n",
       "        vertical-align: top;\n",
       "    }\n",
       "\n",
       "    .dataframe thead th {\n",
       "        text-align: right;\n",
       "    }\n",
       "</style>\n",
       "<table border=\"1\" class=\"dataframe\">\n",
       "  <thead>\n",
       "    <tr style=\"text-align: right;\">\n",
       "      <th>prev_day</th>\n",
       "      <th>0.0</th>\n",
       "      <th>1.0</th>\n",
       "    </tr>\n",
       "    <tr>\n",
       "      <th>rain</th>\n",
       "      <th></th>\n",
       "      <th></th>\n",
       "    </tr>\n",
       "  </thead>\n",
       "  <tbody>\n",
       "    <tr>\n",
       "      <th>0</th>\n",
       "      <td>0.731602</td>\n",
       "      <td>0.351955</td>\n",
       "    </tr>\n",
       "    <tr>\n",
       "      <th>1</th>\n",
       "      <td>0.268398</td>\n",
       "      <td>0.648045</td>\n",
       "    </tr>\n",
       "  </tbody>\n",
       "</table>\n",
       "</div>"
      ],
      "text/plain": [
       "prev_day       0.0       1.0\n",
       "rain                        \n",
       "0         0.731602  0.351955\n",
       "1         0.268398  0.648045"
      ]
     },
     "execution_count": 42,
     "metadata": {},
     "output_type": "execute_result"
    }
   ],
   "source": [
    "# normalizing column\n",
    "T = counts / counts.sum(axis=0)\n",
    "T\n",
    "# if it was raining yesterday, 64.8% chance it will rain today\n",
    "# if it was clear yeasterday, 26.8% chance it will rain today"
   ]
  },
  {
   "cell_type": "code",
   "execution_count": 43,
   "id": "0ac0534b",
   "metadata": {},
   "outputs": [
    {
     "data": {
      "application/vnd.microsoft.datawrangler.viewer.v0+json": {
       "columns": [
        {
         "name": "rain",
         "rawType": "int64",
         "type": "integer"
        },
        {
         "name": "0",
         "rawType": "float64",
         "type": "float"
        }
       ],
       "ref": "8aef7060-59ed-487f-bc31-083c35b5c791",
       "rows": [
        [
         "0",
         "0.7316017316017316"
        ],
        [
         "1",
         "0.2683982683982684"
        ]
       ],
       "shape": {
        "columns": 1,
        "rows": 2
       }
      },
      "text/plain": [
       "rain\n",
       "0    0.731602\n",
       "1    0.268398\n",
       "dtype: float64"
      ]
     },
     "execution_count": 43,
     "metadata": {},
     "output_type": "execute_result"
    }
   ],
   "source": [
    "# start with a clear day, forecast the distribution\n",
    "x = [1,0]\n",
    "v1=T@x\n",
    "v1"
   ]
  },
  {
   "cell_type": "code",
   "execution_count": 44,
   "id": "bd62b35e",
   "metadata": {},
   "outputs": [
    {
     "data": {
      "application/vnd.microsoft.datawrangler.viewer.v0+json": {
       "columns": [
        {
         "name": "rain",
         "rawType": "int64",
         "type": "integer"
        },
        {
         "name": "0",
         "rawType": "float64",
         "type": "float"
        }
       ],
       "ref": "ab3a1ee6-6ef3-42ec-a02c-fc389ed446d0",
       "rows": [
        [
         "0",
         "0.6297052887055063"
        ],
        [
         "1",
         "0.37029471129449365"
        ]
       ],
       "shape": {
        "columns": 1,
        "rows": 2
       }
      },
      "text/plain": [
       "rain\n",
       "0    0.629705\n",
       "1    0.370295\n",
       "dtype: float64"
      ]
     },
     "execution_count": 44,
     "metadata": {},
     "output_type": "execute_result"
    }
   ],
   "source": [
    "v2 = T@v1\n",
    "v2"
   ]
  },
  {
   "cell_type": "code",
   "execution_count": 45,
   "id": "ab160156",
   "metadata": {},
   "outputs": [
    {
     "data": {
      "application/vnd.microsoft.datawrangler.viewer.v0+json": {
       "columns": [
        {
         "name": "rain",
         "rawType": "int64",
         "type": "integer"
        },
        {
         "name": "0",
         "rawType": "float64",
         "type": "float"
        }
       ],
       "ref": "5ec28cf7-093f-4e08-9278-9250aabaa875",
       "rows": [
        [
         "0",
         "0.5910206685070749"
        ],
        [
         "1",
         "0.40897933149292515"
        ]
       ],
       "shape": {
        "columns": 1,
        "rows": 2
       }
      },
      "text/plain": [
       "rain\n",
       "0    0.591021\n",
       "1    0.408979\n",
       "dtype: float64"
      ]
     },
     "execution_count": 45,
     "metadata": {},
     "output_type": "execute_result"
    }
   ],
   "source": [
    "v3 = T@v2\n",
    "v3\n",
    "# after the 2nd time period, it start to converg to (0.6,0.4)"
   ]
  },
  {
   "cell_type": "code",
   "execution_count": 46,
   "id": "704cb412",
   "metadata": {},
   "outputs": [
    {
     "data": {
      "application/vnd.microsoft.datawrangler.viewer.v0+json": {
       "columns": [
        {
         "name": "rain",
         "rawType": "int64",
         "type": "integer"
        },
        {
         "name": "0",
         "rawType": "float64",
         "type": "float"
        }
       ],
       "ref": "7759aa0c-be76-4fbd-b185-09b12832e6a9",
       "rows": [
        [
         "0",
         "0.35195530726256985"
        ],
        [
         "1",
         "0.6480446927374302"
        ]
       ],
       "shape": {
        "columns": 1,
        "rows": 2
       }
      },
      "text/plain": [
       "rain\n",
       "0    0.351955\n",
       "1    0.648045\n",
       "dtype: float64"
      ]
     },
     "execution_count": 46,
     "metadata": {},
     "output_type": "execute_result"
    }
   ],
   "source": [
    "# start with a rainy day\n",
    "x =[0,1]\n",
    "v1=T@x\n",
    "v1"
   ]
  },
  {
   "cell_type": "code",
   "execution_count": 47,
   "id": "78d1043c",
   "metadata": {},
   "outputs": [
    {
     "data": {
      "application/vnd.microsoft.datawrangler.viewer.v0+json": {
       "columns": [
        {
         "name": "rain",
         "rawType": "int64",
         "type": "integer"
        },
        {
         "name": "0",
         "rawType": "float64",
         "type": "float"
        }
       ],
       "ref": "856ff5ad-aef0-4344-a7c7-2ebaf20d596b",
       "rows": [
        [
         "0",
         "0.4855738811919955"
        ],
        [
         "1",
         "0.5144261188080045"
        ]
       ],
       "shape": {
        "columns": 1,
        "rows": 2
       }
      },
      "text/plain": [
       "rain\n",
       "0    0.485574\n",
       "1    0.514426\n",
       "dtype: float64"
      ]
     },
     "execution_count": 47,
     "metadata": {},
     "output_type": "execute_result"
    }
   ],
   "source": [
    "v2 = T@v1\n",
    "v2"
   ]
  },
  {
   "cell_type": "code",
   "execution_count": 48,
   "id": "54aaf5be",
   "metadata": {},
   "outputs": [
    {
     "data": {
      "application/vnd.microsoft.datawrangler.viewer.v0+json": {
       "columns": [
        {
         "name": "rain",
         "rawType": "int64",
         "type": "integer"
        },
        {
         "name": "0",
         "rawType": "float64",
         "type": "float"
        }
       ],
       "ref": "c2c7de9c-c5fe-448d-bfb5-4f06c5823c31",
       "rows": [
        [
         "0",
         "0.5363016950095999"
        ],
        [
         "1",
         "0.4636983049904001"
        ]
       ],
       "shape": {
        "columns": 1,
        "rows": 2
       }
      },
      "text/plain": [
       "rain\n",
       "0    0.536302\n",
       "1    0.463698\n",
       "dtype: float64"
      ]
     },
     "execution_count": 48,
     "metadata": {},
     "output_type": "execute_result"
    }
   ],
   "source": [
    "v3 = T@v2\n",
    "v3\n",
    "# the result is slightly different after the 2nd time period, it starts to emerge to (0.5,0.5)"
   ]
  },
  {
   "cell_type": "code",
   "execution_count": 49,
   "id": "9d781226",
   "metadata": {},
   "outputs": [
    {
     "data": {
      "application/vnd.microsoft.datawrangler.viewer.v0+json": {
       "columns": [
        {
         "name": "index",
         "rawType": "int64",
         "type": "integer"
        },
        {
         "name": "PRCP",
         "rawType": "float64",
         "type": "float"
        }
       ],
       "ref": "f7e277d9-0d9a-47cc-9a90-6c72198977ca",
       "rows": [
        [
         "0",
         "0.03"
        ],
        [
         "1",
         "1.08"
        ],
        [
         "2",
         "0.24"
        ],
        [
         "3",
         "3.0"
        ],
        [
         "5",
         "0.18"
        ],
        [
         "6",
         "0.08"
        ],
        [
         "8",
         "1.29"
        ],
        [
         "9",
         "0.19"
        ],
        [
         "11",
         "0.02"
        ],
        [
         "22",
         "0.14"
        ],
        [
         "23",
         "0.25"
        ],
        [
         "24",
         "0.92"
        ],
        [
         "29",
         "0.07"
        ],
        [
         "35",
         "0.12"
        ],
        [
         "36",
         "0.36"
        ],
        [
         "39",
         "0.22"
        ],
        [
         "42",
         "0.25"
        ],
        [
         "43",
         "0.22"
        ],
        [
         "44",
         "0.99"
        ],
        [
         "49",
         "0.47"
        ],
        [
         "52",
         "0.04"
        ],
        [
         "53",
         "0.05"
        ],
        [
         "54",
         "0.19"
        ],
        [
         "55",
         "0.2"
        ],
        [
         "56",
         "0.67"
        ],
        [
         "61",
         "0.57"
        ],
        [
         "65",
         "0.04"
        ],
        [
         "70",
         "0.06"
        ],
        [
         "71",
         "0.36"
        ],
        [
         "75",
         "0.03"
        ],
        [
         "76",
         "0.23"
        ],
        [
         "78",
         "0.13"
        ],
        [
         "79",
         "0.72"
        ],
        [
         "80",
         "0.04"
        ],
        [
         "82",
         "1.61"
        ],
        [
         "83",
         "0.08"
        ],
        [
         "84",
         "0.03"
        ],
        [
         "86",
         "0.63"
        ],
        [
         "88",
         "0.02"
        ],
        [
         "89",
         "0.67"
        ],
        [
         "94",
         "0.05"
        ],
        [
         "95",
         "0.02"
        ],
        [
         "96",
         "0.23"
        ],
        [
         "97",
         "0.04"
        ],
        [
         "101",
         "0.12"
        ],
        [
         "114",
         "0.65"
        ],
        [
         "122",
         "1.0"
        ],
        [
         "128",
         "0.06"
        ],
        [
         "130",
         "0.23"
        ],
        [
         "134",
         "0.08"
        ]
       ],
       "shape": {
        "columns": 1,
        "rows": 179
       }
      },
      "text/plain": [
       "0      0.03\n",
       "1      1.08\n",
       "2      0.24\n",
       "3      3.00\n",
       "5      0.18\n",
       "       ... \n",
       "378    0.04\n",
       "390    0.02\n",
       "395    0.36\n",
       "400    1.10\n",
       "401    0.13\n",
       "Name: PRCP, Length: 179, dtype: float64"
      ]
     },
     "execution_count": 49,
     "metadata": {},
     "output_type": "execute_result"
    }
   ],
   "source": [
    "# Conditional on being rainy, plot a KDE of the `PRCP` variable.\n",
    "rainy_days = df[df['rain']==1]['PRCP']\n",
    "rainy_days"
   ]
  },
  {
   "cell_type": "code",
   "execution_count": 50,
   "id": "e3e63263",
   "metadata": {},
   "outputs": [
    {
     "data": {
      "text/plain": [
       "<Axes: ylabel='Density'>"
      ]
     },
     "execution_count": 50,
     "metadata": {},
     "output_type": "execute_result"
    },
    {
     "data": {
      "image/png": "[encoded data removed]",
      "text/plain": [
       "<Figure size 640x480 with 1 Axes>"
      ]
     },
     "metadata": {},
     "output_type": "display_data"
    }
   ],
   "source": [
    "rainy_days.plot(kind='kde')"
   ]
  },
  {
   "cell_type": "code",
   "execution_count": 51,
   "id": "0bd3f55c",
   "metadata": {},
   "outputs": [],
   "source": [
    "# to improve the model, could use a higher-order Markov chain (depends on last 2~3 days)"
   ]
  },
  {
   "cell_type": "markdown",
   "id": "b953c2c4",
   "metadata": {},
   "source": [
    "4. Taxicab trajectories: Using the pickled taxicab data, we want to complete the exercise from class.\n",
    "\n",
    "- For the taxicab trajectory data, determine your state space and clean your sequences of cab rides.\n",
    "- Compute the transition matrix for the taxicab data between neighborhoods in Manhattan. Plot it in a heat map. What are the most common routes?\n",
    "- Explain why taxicabs are most likely order 1, and not 2 or more.\n",
    "- Starting at Hell's Kitchen, create a sequence of forecasts of where the cab is likely to be in 2, 3, 5, and 10 trips\n",
    "- Starting at any neighborhood, iterate your forecast until it is no longer changing very much. Where do cabs spend most of their time working in Manhattan?"
   ]
  },
  {
   "cell_type": "code",
   "execution_count": 52,
   "id": "5ff2d90a",
   "metadata": {},
   "outputs": [],
   "source": [
    "# load the pickle file\n",
    "df = pd.read_pickle('data/taxicab.pkl')\n",
    "# df # I used this to checkout the data but results are too long so removed to easier viewing"
   ]
  },
  {
   "cell_type": "code",
   "execution_count": 53,
   "id": "b191ca34",
   "metadata": {},
   "outputs": [
    {
     "data": {
      "text/plain": [
       "list"
      ]
     },
     "execution_count": 53,
     "metadata": {},
     "output_type": "execute_result"
    }
   ],
   "source": [
    "type(df)"
   ]
  },
  {
   "cell_type": "code",
   "execution_count": 54,
   "id": "9605521f",
   "metadata": {},
   "outputs": [
    {
     "name": "stdout",
     "output_type": "stream",
     "text": [
      "States:\n",
      "['East Harlem', 'SoHo', 'Tribeca', 'Flatiron District', 'Financial District', 'Civic Center', 'East Village', 'Theater District', 'Kips Bay', 'Lower East Side', 'Battery Park City', 'Ellis Island', 'Harlem', 'Midtown', 'Gramercy', 'Upper West Side', 'Little Italy', 'Upper East Side', 'West Village', 'Chinatown', 'NoHo', 'Chelsea', 'Marble Hill', 'Liberty Island', \"Randall's Island\", 'Roosevelt Island', 'Morningside Heights', 'Nolita', 'Washington Heights', \"Hell's Kitchen\", 'Stuyvesant Town', 'Two Bridges', 'Central Park', 'Governors Island', 'Greenwich Village', 'Murray Hill', 'Inwood']\n"
     ]
    }
   ],
   "source": [
    "# For the taxicab trajectory data, determine your state space and clean your sequences of cab rides.\n",
    "\n",
    "sequences = df  # If already a list of lists\n",
    "\n",
    "# Clean sequences: remove 'Outside Manhattan'\n",
    "cleaned_sequences = []\n",
    "for seq in sequences:\n",
    "    cleaned = [n for n in seq if n != 'Outside Manhattan']\n",
    "    if cleaned:\n",
    "        cleaned_sequences.append(cleaned)\n",
    "\n",
    "# Flatten for state space\n",
    "flat_seq = [n for seq in cleaned_sequences for n in seq]\n",
    "states = list(set(flat_seq))\n",
    "print(f\"States:\\n{states}\")\n"
   ]
  },
  {
   "cell_type": "code",
   "execution_count": 55,
   "id": "1f792cb5",
   "metadata": {},
   "outputs": [
    {
     "name": "stdout",
     "output_type": "stream",
     "text": [
      "\n",
      "Transition Counts:\n",
      " [[6.03390e+04 1.14800e+03 1.76310e+04 ... 6.12600e+03 1.81000e+02\n",
      "  1.31100e+04]\n",
      " [7.05000e+02 5.24970e+04 1.17520e+04 ... 6.18610e+04 8.32000e+02\n",
      "  3.31100e+03]\n",
      " [1.68390e+04 1.22890e+04 6.66502e+05 ... 6.93070e+04 2.70600e+03\n",
      "  1.26742e+05]\n",
      " ...\n",
      " [4.71800e+03 8.27290e+04 7.05780e+04 ... 7.67948e+05 1.34360e+04\n",
      "  2.23940e+04]\n",
      " [2.25000e+02 9.97000e+02 4.54700e+03 ... 1.32820e+04 1.13040e+04\n",
      "  1.58300e+03]\n",
      " [1.42620e+04 3.54100e+03 1.25823e+05 ... 2.14030e+04 1.05900e+03\n",
      "  2.43636e+05]]\n"
     ]
    }
   ],
   "source": [
    "# Compute the transition matrix for the taxicab data between neighborhoods in Manhattan. Plot it in a heat map. What are the most common routes?\n",
    "\n",
    "# Convert to NumPy array for consistency\n",
    "seq = np.array(flat_seq, dtype=str)\n",
    "\n",
    "# Convert states to plain Python strings\n",
    "states = [str(s) for s in np.unique(seq)]\n",
    "\n",
    "# Transition counts\n",
    "S = len(states)\n",
    "T = len(seq)\n",
    "tr_counts = np.zeros((S, S))\n",
    "\n",
    "for t in range(1, T):\n",
    "    x_tm1 = seq[t-1]  # previous state\n",
    "    x_t = seq[t]      # current state\n",
    "    idx_from = states.index(x_tm1)\n",
    "    idx_to = states.index(x_t)\n",
    "    tr_counts[idx_to, idx_from] += 1\n",
    "\n",
    "print(\"\\nTransition Counts:\\n\", tr_counts)"
   ]
  },
  {
   "cell_type": "code",
   "execution_count": 56,
   "id": "2e13c423",
   "metadata": {},
   "outputs": [
    {
     "name": "stdout",
     "output_type": "stream",
     "text": [
      "\n",
      "Transition Proportions:\n",
      "                     Battery Park City  Central Park  Chelsea  Chinatown  \\\n",
      "Battery Park City                 0.26          0.01     0.08       0.01   \n",
      "Central Park                      0.00          0.14     0.03       0.00   \n",
      "Chelsea                           0.01          0.01     0.34       0.00   \n",
      "Chinatown                         0.02          0.00     0.07       0.13   \n",
      "Civic Center                      0.02          0.00     0.07       0.05   \n",
      "East Harlem                       0.00          0.02     0.03       0.00   \n",
      "East Village                      0.01          0.00     0.07       0.01   \n",
      "Ellis Island                      0.00          0.00     0.00       0.00   \n",
      "Financial District                0.05          0.00     0.06       0.02   \n",
      "Flatiron District                 0.01          0.01     0.15       0.00   \n",
      "Governors Island                  0.00          0.00     0.17       0.17   \n",
      "Gramercy                          0.00          0.00     0.08       0.01   \n",
      "Greenwich Village                 0.01          0.01     0.11       0.01   \n",
      "Harlem                            0.00          0.02     0.05       0.00   \n",
      "Hell's Kitchen                    0.01          0.01     0.12       0.00   \n",
      "Inwood                            0.00          0.01     0.08       0.00   \n",
      "Kips Bay                          0.00          0.00     0.07       0.00   \n",
      "Liberty Island                    0.00          0.00     0.00       0.00   \n",
      "Little Italy                      0.02          0.00     0.08       0.08   \n",
      "Lower East Side                   0.01          0.00     0.07       0.03   \n",
      "Marble Hill                       0.01          0.02     0.06       0.01   \n",
      "Midtown                           0.00          0.02     0.07       0.00   \n",
      "Morningside Heights               0.00          0.02     0.03       0.00   \n",
      "Murray Hill                       0.00          0.01     0.07       0.00   \n",
      "NoHo                              0.01          0.00     0.07       0.01   \n",
      "Nolita                            0.01          0.00     0.07       0.03   \n",
      "Randall's Island                  0.00          0.02     0.04       0.00   \n",
      "Roosevelt Island                  0.01          0.01     0.06       0.00   \n",
      "SoHo                              0.02          0.00     0.09       0.01   \n",
      "Stuyvesant Town                   0.01          0.00     0.07       0.01   \n",
      "Theater District                  0.01          0.02     0.09       0.00   \n",
      "Tribeca                           0.07          0.00     0.08       0.01   \n",
      "Two Bridges                       0.02          0.01     0.05       0.03   \n",
      "Upper East Side                   0.00          0.03     0.03       0.00   \n",
      "Upper West Side                   0.00          0.05     0.04       0.00   \n",
      "Washington Heights                0.00          0.01     0.06       0.00   \n",
      "West Village                      0.02          0.00     0.15       0.00   \n",
      "\n",
      "                     Civic Center  East Harlem  East Village  Ellis Island  \\\n",
      "Battery Park City            0.01         0.00          0.02           0.0   \n",
      "Central Park                 0.00         0.05          0.01           0.0   \n",
      "Chelsea                      0.00         0.00          0.03           0.0   \n",
      "Chinatown                    0.02         0.00          0.08           0.0   \n",
      "Civic Center                 0.10         0.01          0.05           0.0   \n",
      "East Harlem                  0.00         0.23          0.02           0.0   \n",
      "East Village                 0.00         0.01          0.27           0.0   \n",
      "Ellis Island                 0.00         0.00          0.00           0.0   \n",
      "Financial District           0.02         0.00          0.04           0.0   \n",
      "Flatiron District            0.00         0.00          0.04           0.0   \n",
      "Governors Island             0.00         0.00          0.08           0.0   \n",
      "Gramercy                     0.00         0.00          0.13           0.0   \n",
      "Greenwich Village            0.00         0.00          0.07           0.0   \n",
      "Harlem                       0.00         0.07          0.02           0.0   \n",
      "Hell's Kitchen               0.00         0.01          0.02           0.0   \n",
      "Inwood                       0.00         0.02          0.03           0.0   \n",
      "Kips Bay                     0.00         0.01          0.08           0.0   \n",
      "Liberty Island               0.00         0.00          0.00           0.0   \n",
      "Little Italy                 0.02         0.00          0.06           0.0   \n",
      "Lower East Side              0.01         0.01          0.10           0.0   \n",
      "Marble Hill                  0.00         0.04          0.02           0.0   \n",
      "Midtown                      0.00         0.01          0.02           0.0   \n",
      "Morningside Heights          0.00         0.03          0.01           0.0   \n",
      "Murray Hill                  0.00         0.01          0.04           0.0   \n",
      "NoHo                         0.00         0.00          0.12           0.0   \n",
      "Nolita                       0.01         0.00          0.08           0.0   \n",
      "Randall's Island             0.00         0.08          0.03           0.0   \n",
      "Roosevelt Island             0.00         0.01          0.04           0.0   \n",
      "SoHo                         0.01         0.00          0.05           0.0   \n",
      "Stuyvesant Town              0.00         0.01          0.17           0.0   \n",
      "Theater District             0.00         0.01          0.02           0.0   \n",
      "Tribeca                      0.02         0.00          0.03           0.0   \n",
      "Two Bridges                  0.02         0.01          0.08           0.0   \n",
      "Upper East Side              0.00         0.03          0.02           0.0   \n",
      "Upper West Side              0.00         0.02          0.01           0.0   \n",
      "Washington Heights           0.00         0.03          0.02           0.0   \n",
      "West Village                 0.00         0.00          0.04           0.0   \n",
      "\n",
      "                     Financial District  Flatiron District  ...  \\\n",
      "Battery Park City                  0.09               0.01  ...   \n",
      "Central Park                       0.00               0.01  ...   \n",
      "Chelsea                            0.01               0.03  ...   \n",
      "Chinatown                          0.09               0.01  ...   \n",
      "Civic Center                       0.08               0.02  ...   \n",
      "East Harlem                        0.01               0.01  ...   \n",
      "East Village                       0.02               0.02  ...   \n",
      "Ellis Island                       0.33               0.33  ...   \n",
      "Financial District                 0.31               0.01  ...   \n",
      "Flatiron District                  0.01               0.16  ...   \n",
      "Governors Island                   0.00               0.08  ...   \n",
      "Gramercy                           0.01               0.04  ...   \n",
      "Greenwich Village                  0.02               0.03  ...   \n",
      "Harlem                             0.01               0.01  ...   \n",
      "Hell's Kitchen                     0.01               0.01  ...   \n",
      "Inwood                             0.01               0.01  ...   \n",
      "Kips Bay                           0.01               0.03  ...   \n",
      "Liberty Island                     0.00               0.00  ...   \n",
      "Little Italy                       0.05               0.02  ...   \n",
      "Lower East Side                    0.04               0.02  ...   \n",
      "Marble Hill                        0.02               0.01  ...   \n",
      "Midtown                            0.01               0.02  ...   \n",
      "Morningside Heights                0.00               0.00  ...   \n",
      "Murray Hill                        0.01               0.03  ...   \n",
      "NoHo                               0.02               0.02  ...   \n",
      "Nolita                             0.03               0.02  ...   \n",
      "Randall's Island                   0.01               0.01  ...   \n",
      "Roosevelt Island                   0.02               0.01  ...   \n",
      "SoHo                               0.04               0.02  ...   \n",
      "Stuyvesant Town                    0.02               0.02  ...   \n",
      "Theater District                   0.01               0.01  ...   \n",
      "Tribeca                            0.10               0.01  ...   \n",
      "Two Bridges                        0.17               0.01  ...   \n",
      "Upper East Side                    0.01               0.01  ...   \n",
      "Upper West Side                    0.00               0.01  ...   \n",
      "Washington Heights                 0.01               0.01  ...   \n",
      "West Village                       0.02               0.02  ...   \n",
      "\n",
      "                     Roosevelt Island  SoHo  Stuyvesant Town  \\\n",
      "Battery Park City                0.00  0.04             0.00   \n",
      "Central Park                     0.00  0.01             0.00   \n",
      "Chelsea                          0.00  0.02             0.00   \n",
      "Chinatown                        0.00  0.06             0.01   \n",
      "Civic Center                     0.00  0.07             0.00   \n",
      "East Harlem                      0.00  0.01             0.00   \n",
      "East Village                     0.00  0.03             0.01   \n",
      "Ellis Island                     0.00  0.00             0.00   \n",
      "Financial District               0.00  0.04             0.01   \n",
      "Flatiron District                0.00  0.02             0.01   \n",
      "Governors Island                 0.00  0.00             0.00   \n",
      "Gramercy                         0.00  0.02             0.02   \n",
      "Greenwich Village                0.00  0.05             0.01   \n",
      "Harlem                           0.00  0.01             0.00   \n",
      "Hell's Kitchen                   0.00  0.01             0.00   \n",
      "Inwood                           0.00  0.01             0.00   \n",
      "Kips Bay                         0.00  0.01             0.02   \n",
      "Liberty Island                   0.00  0.00             0.00   \n",
      "Little Italy                     0.00  0.08             0.00   \n",
      "Lower East Side                  0.00  0.04             0.01   \n",
      "Marble Hill                      0.00  0.01             0.00   \n",
      "Midtown                          0.00  0.01             0.00   \n",
      "Morningside Heights              0.00  0.00             0.00   \n",
      "Murray Hill                      0.00  0.01             0.01   \n",
      "NoHo                             0.00  0.07             0.01   \n",
      "Nolita                           0.00  0.09             0.01   \n",
      "Randall's Island                 0.00  0.01             0.00   \n",
      "Roosevelt Island                 0.12  0.01             0.00   \n",
      "SoHo                             0.00  0.25             0.00   \n",
      "Stuyvesant Town                  0.00  0.02             0.14   \n",
      "Theater District                 0.00  0.01             0.00   \n",
      "Tribeca                          0.00  0.06             0.00   \n",
      "Two Bridges                      0.00  0.03             0.01   \n",
      "Upper East Side                  0.00  0.01             0.00   \n",
      "Upper West Side                  0.00  0.01             0.00   \n",
      "Washington Heights               0.00  0.01             0.00   \n",
      "West Village                     0.00  0.06             0.00   \n",
      "\n",
      "                     Theater District  Tribeca  Two Bridges  Upper East Side  \\\n",
      "Battery Park City                0.03     0.10         0.00             0.04   \n",
      "Central Park                     0.04     0.00         0.00             0.25   \n",
      "Chelsea                          0.04     0.02         0.00             0.04   \n",
      "Chinatown                        0.02     0.05         0.01             0.04   \n",
      "Civic Center                     0.02     0.08         0.00             0.05   \n",
      "East Harlem                      0.02     0.00         0.00             0.30   \n",
      "East Village                     0.02     0.02         0.00             0.05   \n",
      "Ellis Island                     0.00     0.00         0.00             0.00   \n",
      "Financial District               0.03     0.05         0.01             0.05   \n",
      "Flatiron District                0.02     0.01         0.00             0.05   \n",
      "Governors Island                 0.00     0.08         0.00             0.00   \n",
      "Gramercy                         0.02     0.01         0.00             0.06   \n",
      "Greenwich Village                0.02     0.03         0.00             0.04   \n",
      "Harlem                           0.03     0.01         0.00             0.10   \n",
      "Hell's Kitchen                   0.09     0.01         0.00             0.04   \n",
      "Inwood                           0.04     0.01         0.00             0.09   \n",
      "Kips Bay                         0.02     0.01         0.00             0.07   \n",
      "Liberty Island                   0.00     0.00         0.00             0.00   \n",
      "Little Italy                     0.03     0.04         0.00             0.03   \n",
      "Lower East Side                  0.02     0.03         0.00             0.05   \n",
      "Marble Hill                      0.03     0.01         0.00             0.10   \n",
      "Midtown                          0.05     0.01         0.00             0.14   \n",
      "Morningside Heights              0.02     0.00         0.00             0.09   \n",
      "Murray Hill                      0.03     0.01         0.00             0.08   \n",
      "NoHo                             0.01     0.02         0.00             0.04   \n",
      "Nolita                           0.02     0.03         0.00             0.04   \n",
      "Randall's Island                 0.03     0.01         0.00             0.20   \n",
      "Roosevelt Island                 0.05     0.01         0.00             0.15   \n",
      "SoHo                             0.02     0.07         0.00             0.03   \n",
      "Stuyvesant Town                  0.02     0.01         0.00             0.06   \n",
      "Theater District                 0.22     0.01         0.00             0.06   \n",
      "Tribeca                          0.02     0.25         0.00             0.03   \n",
      "Two Bridges                      0.02     0.04         0.08             0.06   \n",
      "Upper East Side                  0.02     0.00         0.00             0.46   \n",
      "Upper West Side                  0.03     0.00         0.00             0.11   \n",
      "Washington Heights               0.04     0.01         0.00             0.10   \n",
      "West Village                     0.02     0.04         0.00             0.03   \n",
      "\n",
      "                     Upper West Side  Washington Heights  West Village  \n",
      "Battery Park City               0.03                0.00          0.06  \n",
      "Central Park                    0.17                0.00          0.01  \n",
      "Chelsea                         0.04                0.00          0.06  \n",
      "Chinatown                       0.02                0.00          0.04  \n",
      "Civic Center                    0.02                0.00          0.04  \n",
      "East Harlem                     0.09                0.01          0.01  \n",
      "East Village                    0.02                0.00          0.04  \n",
      "Ellis Island                    0.00                0.00          0.00  \n",
      "Financial District              0.02                0.00          0.04  \n",
      "Flatiron District               0.02                0.00          0.05  \n",
      "Governors Island                0.00                0.00          0.08  \n",
      "Gramercy                        0.02                0.00          0.03  \n",
      "Greenwich Village               0.02                0.00          0.08  \n",
      "Harlem                          0.16                0.05          0.02  \n",
      "Hell's Kitchen                  0.11                0.00          0.03  \n",
      "Inwood                          0.16                0.03          0.03  \n",
      "Kips Bay                        0.02                0.00          0.02  \n",
      "Liberty Island                  0.00                0.00          0.00  \n",
      "Little Italy                    0.02                0.00          0.05  \n",
      "Lower East Side                 0.02                0.00          0.05  \n",
      "Marble Hill                     0.19                0.06          0.02  \n",
      "Midtown                         0.06                0.00          0.02  \n",
      "Morningside Heights             0.26                0.06          0.01  \n",
      "Murray Hill                     0.02                0.00          0.02  \n",
      "NoHo                            0.02                0.00          0.05  \n",
      "Nolita                          0.02                0.00          0.06  \n",
      "Randall's Island                0.07                0.00          0.01  \n",
      "Roosevelt Island                0.05                0.00          0.02  \n",
      "SoHo                            0.02                0.00          0.08  \n",
      "Stuyvesant Town                 0.02                0.00          0.03  \n",
      "Theater District                0.08                0.00          0.02  \n",
      "Tribeca                         0.02                0.00          0.06  \n",
      "Two Bridges                     0.02                0.00          0.03  \n",
      "Upper East Side                 0.07                0.00          0.01  \n",
      "Upper West Side                 0.43                0.01          0.01  \n",
      "Washington Heights              0.18                0.16          0.02  \n",
      "West Village                    0.03                0.00          0.29  \n",
      "\n",
      "[37 rows x 37 columns]\n"
     ]
    }
   ],
   "source": [
    "# Normalize\n",
    "sums = tr_counts.sum(axis=1, keepdims=True)\n",
    "tr_pr = np.divide(tr_counts, sums, out=np.zeros_like(tr_counts), where=sums!=0)\n",
    "\n",
    "print(\"\\nTransition Proportions:\")\n",
    "print(pd.DataFrame(np.round(tr_pr, 2), index=states, columns=states))"
   ]
  },
  {
   "cell_type": "code",
   "execution_count": 57,
   "id": "ba5b955c",
   "metadata": {},
   "outputs": [
    {
     "data": {
      "image/png": "[encoded data removed]",
      "text/plain": [
       "<Figure size 1300x1100 with 2 Axes>"
      ]
     },
     "metadata": {},
     "output_type": "display_data"
    }
   ],
   "source": [
    "# Heatmap\n",
    "\n",
    "import seaborn as sns\n",
    "import matplotlib.pyplot as plt\n",
    "\n",
    "plt.figure(figsize=(13, 11))\n",
    "sns.heatmap(tr_pr, cmap='Blues', square=True,\n",
    "            xticklabels=states, yticklabels=states,\n",
    "            cbar_kws={'label': 'Transition Probability'})\n",
    "plt.title('Transition Probabilities')\n",
    "plt.xlabel('...To State')\n",
    "plt.ylabel('From State...')\n",
    "plt.xticks(rotation=90)\n",
    "plt.yticks(rotation=0)\n",
    "plt.tight_layout()\n",
    "plt.show()"
   ]
  },
  {
   "cell_type": "markdown",
   "id": "17b9f76f",
   "metadata": {},
   "source": [
    "# Explain why taxicabs are most likely order 1, and not 2 or more.\n",
    "\n",
    "\n",
    "Taxicab trajectories are most likely order 1 because the next neighborhood depends mainly on the current one.\n",
    "Passenger demand is local and immediate, so past locations have little influence.\n"
   ]
  },
  {
   "cell_type": "code",
   "execution_count": 58,
   "id": "8bdfafc3",
   "metadata": {},
   "outputs": [
    {
     "name": "stdout",
     "output_type": "stream",
     "text": [
      "\n",
      "Initial Density:\n",
      " [[0.]\n",
      " [0.]\n",
      " [0.]\n",
      " [0.]\n",
      " [0.]\n",
      " [0.]\n",
      " [0.]\n",
      " [0.]\n",
      " [0.]\n",
      " [0.]\n",
      " [0.]\n",
      " [0.]\n",
      " [0.]\n",
      " [0.]\n",
      " [1.]\n",
      " [0.]\n",
      " [0.]\n",
      " [0.]\n",
      " [0.]\n",
      " [0.]\n",
      " [0.]\n",
      " [0.]\n",
      " [0.]\n",
      " [0.]\n",
      " [0.]\n",
      " [0.]\n",
      " [0.]\n",
      " [0.]\n",
      " [0.]\n",
      " [0.]\n",
      " [0.]\n",
      " [0.]\n",
      " [0.]\n",
      " [0.]\n",
      " [0.]\n",
      " [0.]\n",
      " [0.]]\n",
      "\n",
      "Forecast after 2 trips:\n",
      "Hell's Kitchen         0.122986\n",
      "Theater District       0.088481\n",
      "Marble Hill            0.084974\n",
      "Inwood                 0.081225\n",
      "Washington Heights     0.075378\n",
      "Upper West Side        0.070804\n",
      "Chelsea                0.070800\n",
      "Harlem                 0.063616\n",
      "Morningside Heights    0.060060\n",
      "Midtown                0.059221\n",
      "dtype: float64\n",
      "\n",
      "Forecast after 3 trips:\n",
      "Hell's Kitchen         0.079967\n",
      "Theater District       0.071367\n",
      "Marble Hill            0.069211\n",
      "Inwood                 0.068116\n",
      "Washington Heights     0.067442\n",
      "Upper West Side        0.066819\n",
      "Chelsea                0.064810\n",
      "Morningside Heights    0.064306\n",
      "Harlem                 0.063342\n",
      "Midtown                0.060015\n",
      "dtype: float64\n",
      "\n",
      "Forecast after 5 trips:\n",
      "Hell's Kitchen         0.062254\n",
      "Morningside Heights    0.061789\n",
      "Upper West Side        0.061673\n",
      "Washington Heights     0.061333\n",
      "Marble Hill            0.061317\n",
      "Theater District       0.061289\n",
      "Inwood                 0.061100\n",
      "Harlem                 0.060927\n",
      "Chelsea                0.060198\n",
      "Central Park           0.059979\n",
      "dtype: float64\n",
      "\n",
      "Forecast after 10 trips:\n",
      "Morningside Heights    0.059565\n",
      "Upper West Side        0.059544\n",
      "Harlem                 0.059524\n",
      "Washington Heights     0.059512\n",
      "Central Park           0.059510\n",
      "Marble Hill            0.059505\n",
      "East Harlem            0.059495\n",
      "Inwood                 0.059492\n",
      "Hell's Kitchen         0.059482\n",
      "Upper East Side        0.059476\n",
      "dtype: float64\n"
     ]
    }
   ],
   "source": [
    "# Starting at Hell's Kitchen, create a sequence of forecasts of where the cab is likely to be in 2, 3, 5, and 10 trips\n",
    "\n",
    "# Initial density vector\n",
    "density = np.zeros(S)\n",
    "density[states.index(\"Hell's Kitchen\")] = 1\n",
    "\n",
    "print(\"\\nInitial Density:\\n\", density.reshape(-1, 1))\n",
    "\n",
    "for k in [2, 3, 5, 10]:\n",
    "    forecast = density.copy()\n",
    "    for _ in range(k):\n",
    "        forecast = tr_pr @ forecast\n",
    "    print(f\"\\nForecast after {k} trips:\")\n",
    "    print(pd.Series(forecast, index=states).sort_values(ascending=False).head(10))"
   ]
  },
  {
   "cell_type": "code",
   "execution_count": 59,
   "id": "e8580f71",
   "metadata": {},
   "outputs": [
    {
     "name": "stdout",
     "output_type": "stream",
     "text": [
      "\n",
      "Stationary Distribution (Top 10):\n",
      "Morningside Heights    0.059441\n",
      "Upper West Side        0.059441\n",
      "Central Park           0.059441\n",
      "East Harlem            0.059441\n",
      "Harlem                 0.059441\n",
      "Upper East Side        0.059440\n",
      "Washington Heights     0.059440\n",
      "Marble Hill            0.059440\n",
      "Randall's Island       0.059440\n",
      "Inwood                 0.059440\n",
      "Hell's Kitchen         0.059439\n",
      "Midtown                0.059439\n",
      "Theater District       0.059439\n",
      "Roosevelt Island       0.059439\n",
      "Murray Hill            0.059438\n",
      "Chelsea                0.059438\n",
      "Flatiron District      0.059438\n",
      "Kips Bay               0.059438\n",
      "Ellis Island           0.059438\n",
      "Gramercy               0.059438\n",
      "Stuyvesant Town        0.059437\n",
      "Greenwich Village      0.059437\n",
      "Civic Center           0.059437\n",
      "West Village           0.059437\n",
      "East Village           0.059437\n",
      "Two Bridges            0.059437\n",
      "Lower East Side        0.059437\n",
      "Financial District     0.059437\n",
      "Battery Park City      0.059437\n",
      "Little Italy           0.059437\n",
      "NoHo                   0.059437\n",
      "Chinatown              0.059437\n",
      "SoHo                   0.059437\n",
      "Tribeca                0.059437\n",
      "Nolita                 0.059437\n",
      "Governors Island       0.059436\n",
      "Liberty Island         0.059436\n",
      "dtype: float64\n"
     ]
    }
   ],
   "source": [
    "# Starting at any neighborhood, iterate your forecast until it is no longer changing very much. Where do cabs spend most of their time working in Manhattan?\n",
    "# it look like it is almost the same no matter where the cab driver is at in Manhattan\n",
    "\n",
    "prev = None\n",
    "while True:\n",
    "    next_density = tr_pr @ density\n",
    "    if prev is not None and np.allclose(next_density, prev, atol=1e-6):\n",
    "        break\n",
    "    prev = next_density.copy()\n",
    "    density = next_density.copy()\n",
    "\n",
    "print(\"\\nStationary Distribution (Top 10):\")\n",
    "print(pd.Series(density, index=states).sort_values(ascending=False))\n"
   ]
  }
 ],
 "metadata": {
  "kernelspec": {
   "display_name": "base2",
   "language": "python",
   "name": "python3"
  },
  "language_info": {
   "codemirror_mode": {
    "name": "ipython",
    "version": 3
   },
   "file_extension": ".py",
   "mimetype": "text/x-python",
   "name": "python",
   "nbconvert_exporter": "python",
   "pygments_lexer": "ipython3",
   "version": "3.13.7"
  }
 },
 "nbformat": 4,
 "nbformat_minor": 5
}
